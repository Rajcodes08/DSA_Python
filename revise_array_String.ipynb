{
 "cells": [
  {
   "cell_type": "code",
   "execution_count": null,
   "id": "a6a46275",
   "metadata": {},
   "outputs": [],
   "source": [
    "1. Find the maximum element in an array.\n",
    "2. Count the number of even and odd numbers in a list.\n",
    "3. Reverse a given string.\n",
    "4. Check if a number is prime.\n",
    "5. Print the Fibonacci sequence up to N terms.\n",
    "6. Find the second largest element in an array.\n",
    "7. Check if a string is a palindrome.\n",
    "8. Sort an array using bubble sort.\n",
    "9. Find the sum of digits of a number.\n",
    "10. Calculate the factorial of a number.\n",
    "11. Merge two sorted arrays into one.\n",
    "12. Count the frequency of elements in an array.\n",
    "13. Find the missing number in a range from 1 to N.\n",
    "14. Check if two strings are anagrams.\n",
    "15. Remove duplicate elements from an array.\n",
    "16. Find the largest sum subarray (Kadane’s Algorithm).\n",
    "17. Check if a number is an Armstrong number.\n",
    "18. Rotate an array to the left by K steps.\n",
    "19. Find the intersection of two arrays.\n",
    "20. Move all zeros to the end of an array.\n",
    "21. Implement binary search on a sorted array.\n",
    "22. Check if a number is a perfect square.\n",
    "23. Count vowels and consonants in a string.\n",
    "24. Find the GCD of two numbers.\n",
    "25. Convert a binary number to decimal.\n",
    "26. Find the first non-repeating character in a string.\n",
    "27. Implement a stack using arrays.\n",
    "28. Implement a queue using two stacks.\n",
    "29. Check if brackets are balanced in an expression.\n",
    "30. Find the majority element in an array (if any).\n"
   ]
  }
 ],
 "metadata": {
  "kernelspec": {
   "display_name": "Python 3",
   "language": "python",
   "name": "python3"
  },
  "language_info": {
   "codemirror_mode": {
    "name": "ipython",
    "version": 3
   },
   "file_extension": ".py",
   "mimetype": "text/x-python",
   "name": "python",
   "nbconvert_exporter": "python",
   "pygments_lexer": "ipython3",
   "version": "3.13.6"
  }
 },
 "nbformat": 4,
 "nbformat_minor": 5
}
