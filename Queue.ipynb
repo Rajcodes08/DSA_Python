{
 "cells": [
  {
   "cell_type": "markdown",
   "id": "daa43c3c",
   "metadata": {},
   "source": [
    "### Queue Implementation using  Lists"
   ]
  },
  {
   "cell_type": "code",
   "execution_count": 1,
   "id": "5bf17f3c",
   "metadata": {},
   "outputs": [
    {
     "name": "stdout",
     "output_type": "stream",
     "text": [
      "Queue:  ['A', 'B', 'C']\n",
      "Peek:  A\n",
      "Dequeue:  A\n",
      "Queue after Dequeue:  ['B', 'C']\n",
      "isEmpty:  False\n",
      "Size:  2\n"
     ]
    }
   ],
   "source": [
    "queue = []\n",
    "\n",
    "# Enqueue\n",
    "queue.append('A')\n",
    "queue.append('B')\n",
    "queue.append('C')\n",
    "print(\"Queue: \", queue)\n",
    "\n",
    "# Peek\n",
    "frontElement = queue[0]\n",
    "print(\"Peek: \", frontElement)\n",
    "\n",
    "# Dequeue\n",
    "poppedElement = queue.pop(0)\n",
    "print(\"Dequeue: \", poppedElement)\n",
    "\n",
    "print(\"Queue after Dequeue: \", queue)\n",
    "\n",
    "# isEmpty\n",
    "isEmpty = not bool(queue)\n",
    "print(\"isEmpty: \", isEmpty)\n",
    "\n",
    "# Size\n",
    "print(\"Size: \", len(queue))"
   ]
  },
  {
   "cell_type": "markdown",
   "id": "dcb2cf76",
   "metadata": {},
   "source": [
    "### Queue Implementation using Class"
   ]
  },
  {
   "cell_type": "code",
   "execution_count": 2,
   "id": "3eea6022",
   "metadata": {},
   "outputs": [
    {
     "name": "stdout",
     "output_type": "stream",
     "text": [
      "Queue:  ['A', 'B', 'C']\n",
      "Peek:  A\n",
      "Dequeue:  A\n",
      "Queue after Dequeue:  ['B', 'C']\n",
      "isEmpty:  False\n",
      "Size:  2\n"
     ]
    }
   ],
   "source": [
    "class Queue:\n",
    "  def __init__(self):\n",
    "    self.queue = []\n",
    "    \n",
    "  def enqueue(self, element):\n",
    "    self.queue.append(element)\n",
    "\n",
    "  def dequeue(self):\n",
    "    if self.isEmpty():\n",
    "      return \"Queue is empty\"\n",
    "    return self.queue.pop(0)\n",
    "\n",
    "  def peek(self):\n",
    "    if self.isEmpty():\n",
    "      return \"Queue is empty\"\n",
    "    return self.queue[0]\n",
    "\n",
    "  def isEmpty(self):\n",
    "    return len(self.queue) == 0\n",
    "\n",
    "  def size(self):\n",
    "    return len(self.queue)\n",
    "\n",
    "# Create a queue\n",
    "myQueue = Queue()\n",
    "\n",
    "myQueue.enqueue('A')\n",
    "myQueue.enqueue('B')\n",
    "myQueue.enqueue('C')\n",
    "\n",
    "print(\"Queue: \", myQueue.queue)\n",
    "print(\"Peek: \", myQueue.peek())\n",
    "print(\"Dequeue: \", myQueue.dequeue())\n",
    "print(\"Queue after Dequeue: \", myQueue.queue)\n",
    "print(\"isEmpty: \", myQueue.isEmpty())\n",
    "print(\"Size: \", myQueue.size())\n"
   ]
  },
  {
   "cell_type": "markdown",
   "id": "5d56f586",
   "metadata": {},
   "source": [
    "### Queue implementation using array"
   ]
  },
  {
   "cell_type": "code",
   "execution_count": 8,
   "id": "e7d0dc77",
   "metadata": {},
   "outputs": [],
   "source": [
    "class Queue:\n",
    "    def __init__(self, size):\n",
    "        self.size = size\n",
    "        self.queue = [None] * size\n",
    "        self.front = -1\n",
    "        self.rear = -1\n",
    "\n",
    "    def is_full(self):\n",
    "        return self.rear == self.size - 1\n",
    "\n",
    "    def is_empty(self):\n",
    "        return self.front == -1 or self.front > self.rear\n",
    "\n",
    "    def enqueue(self, item):\n",
    "        if self.is_full():\n",
    "            print(\"Queue is full! Cannot enqueue.\")\n",
    "            return\n",
    "        if self.front == -1:\n",
    "            self.front = 0\n",
    "        self.rear += 1\n",
    "        self.queue[self.rear] = item\n",
    "        print(f\"{item} added to queue\")\n",
    "\n",
    "    def dequeue(self):\n",
    "        if self.is_empty():\n",
    "            print(\"Queue is empty! Cannot dequeue.\")\n",
    "            return None\n",
    "        removed = self.queue[self.front]\n",
    "        self.front += 1\n",
    "        print(f\"{removed} removed from queue\")\n",
    "        return removed\n",
    "\n",
    "    def peek(self):\n",
    "        if self.is_empty():\n",
    "            print(\"Queue is empty!\")\n",
    "            return None\n",
    "        return self.queue[self.front]\n",
    "\n",
    "    def display(self):\n",
    "        if self.is_empty():\n",
    "            print(\"Queue is empty!\")\n",
    "        else:\n",
    "            print(\"Queue elements:\", self.queue[self.front:self.rear + 1])\n",
    "\n",
    "    # 👇 This makes print(q) work nicely\n",
    "    def __str__(self):\n",
    "        if self.is_empty():\n",
    "            return \"Queue is empty!\"\n",
    "        return \"Queue: \" + str(self.queue[self.front:self.rear + 1])\n"
   ]
  },
  {
   "cell_type": "code",
   "execution_count": 9,
   "id": "67716bb2",
   "metadata": {},
   "outputs": [
    {
     "name": "stdout",
     "output_type": "stream",
     "text": [
      "10 added to queue\n",
      "20 added to queue\n",
      "Queue: [10, 20]\n",
      "10 removed from queue\n",
      "Queue: [20]\n"
     ]
    }
   ],
   "source": [
    "q = Queue(5)\n",
    "q.enqueue(10)\n",
    "q.enqueue(20)\n",
    "print(q)  # uses __str__()\n",
    "q.dequeue()\n",
    "print(q)\n"
   ]
  },
  {
   "cell_type": "markdown",
   "id": "7a1cca56",
   "metadata": {},
   "source": [
    "### Ques 1. Reverse a Queue"
   ]
  },
  {
   "cell_type": "code",
   "execution_count": null,
   "id": "e1ff4223",
   "metadata": {},
   "outputs": [],
   "source": [
    "\n",
    "# Approach 1 Using Stack:\n",
    "\n",
    "# 1. Create an empty stack.\n",
    "# 2. Dequeue all elements from the queue and push them into the stack.\n",
    "# 3. Pop all elements from the stack and enqueue them back into the queue.\n",
    "\n",
    "\n",
    "# NOTE\n",
    "\n",
    "# from queue import Queue:\n",
    "\n",
    "# This imports Python’s built-in FIFO queue class from the queue module.\n",
    "# The Queue class provides ready-made methods for queue operations:\n",
    "\n",
    "# 1. put(item) → adds an element at the rear of the queue\n",
    "# 2. get() → removes an element from the front of the queue\n",
    "# 3. empty() → returns True if the queue is empty"
   ]
  },
  {
   "cell_type": "code",
   "execution_count": 13,
   "id": "ba602f03",
   "metadata": {},
   "outputs": [
    {
     "name": "stdout",
     "output_type": "stream",
     "text": [
      "40 30 20 10 "
     ]
    }
   ],
   "source": [
    "from queue import Queue\n",
    "\n",
    "def reverse_queue(q):\n",
    "    stack = []\n",
    "\n",
    "    # Step 1: Move all elements from queue to stack\n",
    "    while not q.empty(): #until the queue is empty\n",
    "        stack.append(q.get())\n",
    "\n",
    "    # Step 2: Move all elements back to queue from stack\n",
    "    while stack:\n",
    "        q.put(stack.pop())\n",
    "\n",
    "q = Queue()\n",
    "for i in [10, 20, 30, 40]:\n",
    "    q.put(i)\n",
    "\n",
    "reverse_queue(q)\n",
    "\n",
    "while not q.empty():\n",
    "    print(q.get(), end=' ')\n"
   ]
  },
  {
   "cell_type": "code",
   "execution_count": null,
   "id": "886b0eb4",
   "metadata": {},
   "outputs": [],
   "source": [
    "# Approch 2using recursion"
   ]
  },
  {
   "cell_type": "code",
   "execution_count": null,
   "id": "feb4b948",
   "metadata": {},
   "outputs": [],
   "source": [
    "from queue import Queue\n",
    "\n",
    "def reverse_queue_recursive(q):\n",
    "    # Base case: if queue is empty, do nothing\n",
    "    if q.empty():\n",
    "        return\n",
    "\n",
    "    # Step 1: Remove front element\n",
    "    front = q.get()\n",
    "\n",
    "    # Step 2: Recursively reverse the remaining queue\n",
    "    reverse_queue_recursive(q)\n",
    "\n",
    "    # Step 3: Add the removed element to rear\n",
    "    q.put(front)\n",
    "\n",
    "q = Queue()\n",
    "for i in [10, 20, 30, 40]:\n",
    "    q.put(i)\n",
    "\n",
    "reverse_queue_recursive(q)\n",
    "\n",
    "while not q.empty():\n",
    "    print(q.get(), end=' ')\n"
   ]
  },
  {
   "cell_type": "markdown",
   "id": "365f69b6",
   "metadata": {},
   "source": [
    "### Ques 2. First negative integer in every window of size k"
   ]
  },
  {
   "cell_type": "code",
   "execution_count": null,
   "id": "78b2ac7b",
   "metadata": {},
   "outputs": [],
   "source": [
    "# arr = [1,2,3,4]\n",
    "# window of 2 means [1,2]\n",
    "# every window of size 3 : [1,2,3] and [2,3,4]"
   ]
  },
  {
   "cell_type": "code",
   "execution_count": 15,
   "id": "3a9be1db",
   "metadata": {},
   "outputs": [
    {
     "name": "stdout",
     "output_type": "stream",
     "text": [
      "[-1, -1, -7, -15, -15, 0]\n"
     ]
    }
   ],
   "source": [
    "from collections import deque\n",
    "\n",
    "def first_negative_in_window(arr, k):\n",
    "    result = []\n",
    "    dq = deque()  # store indices of negative numbers\n",
    "\n",
    "    for i in range(len(arr)):\n",
    "        # remove negatives that are out of current window\n",
    "        if dq and dq[0] < i - k + 1:\n",
    "            dq.popleft()\n",
    "\n",
    "        # if current number is negative, add its index\n",
    "        if arr[i] < 0:\n",
    "            dq.append(i)\n",
    "\n",
    "        # start recording once first window is ready\n",
    "        if i >= k - 1:\n",
    "            if dq:\n",
    "                result.append(arr[dq[0]])  # first negative in window\n",
    "            else:\n",
    "                result.append(0)  # no negative in window\n",
    "\n",
    "    return result\n",
    "\n",
    "arr = [12, -1, -7, 8, -15, 30, 16, 28]\n",
    "k = 3\n",
    "print(first_negative_in_window(arr, k))\n"
   ]
  },
  {
   "cell_type": "markdown",
   "id": "63b6410d",
   "metadata": {},
   "source": [
    "### Ques 3. Reverse first K element of the queue"
   ]
  },
  {
   "cell_type": "code",
   "execution_count": 16,
   "id": "ac2575f9",
   "metadata": {},
   "outputs": [
    {
     "name": "stdout",
     "output_type": "stream",
     "text": [
      "30 20 10 40 50 60 "
     ]
    }
   ],
   "source": [
    "from queue import Queue\n",
    "\n",
    "def reverse_first_k(q, k):\n",
    "    stack = []\n",
    "    n = q.qsize()  # total number of elements in queue\n",
    "\n",
    "    # Step 1: Dequeue first k elements and push to stack\n",
    "    for _ in range(k):\n",
    "        stack.append(q.get())\n",
    "\n",
    "    # Step 2: Pop from stack and enqueue back → reversed\n",
    "    while stack:\n",
    "        q.put(stack.pop())\n",
    "\n",
    "    # Step 3: Move remaining elements (n-k) to rear to maintain order\n",
    "    for _ in range(n - k):\n",
    "        q.put(q.get())\n",
    "\n",
    "q = Queue()\n",
    "for i in [10, 20, 30, 40, 50, 60]:\n",
    "    q.put(i)\n",
    "\n",
    "reverse_first_k(q, 3)\n",
    "\n",
    "# Print queue\n",
    "while not q.empty():\n",
    "    print(q.get(), end=' ')\n"
   ]
  },
  {
   "cell_type": "markdown",
   "id": "d24db80a",
   "metadata": {},
   "source": [
    "### Ques 4. First Non-Repeating Character in a Stream"
   ]
  },
  {
   "cell_type": "code",
   "execution_count": null,
   "id": "8c7b199c",
   "metadata": {},
   "outputs": [],
   "source": [
    "#  Approach\n",
    "# 1. You receive a stream of characters one by one.\n",
    "# 2. After reading each character, print the first character that has appeared only once so far.\n",
    "# 3. If no such character exists, print #."
   ]
  },
  {
   "cell_type": "code",
   "execution_count": 19,
   "id": "f1609df2",
   "metadata": {},
   "outputs": [
    {
     "name": "stdout",
     "output_type": "stream",
     "text": [
      "['a', '#', 'b', '#', 'c', 'c', '#', '#']\n"
     ]
    }
   ],
   "source": [
    "from collections import deque\n",
    "\n",
    "def first_non_repeating(stream):\n",
    "    q = deque()\n",
    "    count = {}  # character frequency\n",
    "    result = []\n",
    "\n",
    "    for ch in stream:\n",
    "        # Step 1: update count\n",
    "        count[ch] = count.get(ch, 0) + 1\n",
    "\n",
    "        # Step 2: add current character to queue\n",
    "        q.append(ch)\n",
    "\n",
    "        # Step 3: remove repeating characters from front\n",
    "        while q and count[q[0]] > 1:\n",
    "            q.popleft()\n",
    "\n",
    "        # Step 4: append result\n",
    "        if q:\n",
    "            result.append(q[0])\n",
    "        else:\n",
    "            result.append('#')  # no non-repeating character\n",
    "\n",
    "    return result\n",
    "\n",
    "stream = \"aabbcacc\"\n",
    "print(first_non_repeating(stream))\n",
    "\n"
   ]
  }
 ],
 "metadata": {
  "kernelspec": {
   "display_name": "Python 3",
   "language": "python",
   "name": "python3"
  },
  "language_info": {
   "codemirror_mode": {
    "name": "ipython",
    "version": 3
   },
   "file_extension": ".py",
   "mimetype": "text/x-python",
   "name": "python",
   "nbconvert_exporter": "python",
   "pygments_lexer": "ipython3",
   "version": "3.13.6"
  }
 },
 "nbformat": 4,
 "nbformat_minor": 5
}
