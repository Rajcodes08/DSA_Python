{
 "cells": [
  {
   "cell_type": "markdown",
   "metadata": {},
   "source": [
    "#ARRAYS- Its a data structure with similar elemets(is can be integers)imp- it can contain only one type of data, like either a string type or integer type but not toghther.(it can be char,int,string,pair)"
   ]
  },
  {
   "cell_type": "markdown",
   "metadata": {},
   "source": [
    "Ques: Find the largest element in an array.\n",
    "arr=[1,2,2,3,5]"
   ]
  },
  {
   "cell_type": "code",
   "execution_count": null,
   "metadata": {},
   "outputs": [
    {
     "data": {
      "text/plain": [
       "5"
      ]
     },
     "execution_count": 1,
     "metadata": {},
     "output_type": "execute_result"
    }
   ],
   "source": [
    "arr=[1,2,2,3,5]\n",
    "\n",
    "arr[4]\n"
   ]
  },
  {
   "cell_type": "markdown",
   "metadata": {},
   "source": [
    "#### Find the largest element in an array.\n",
    "arr=[1,2,2,3,5]"
   ]
  },
  {
   "cell_type": "code",
   "execution_count": 1,
   "metadata": {},
   "outputs": [
    {
     "name": "stdout",
     "output_type": "stream",
     "text": [
      "6\n"
     ]
    }
   ],
   "source": [
    "arr=[1,2,6,3,5]\n",
    "\n",
    "largest = arr[0]\n",
    "for i in range(1, len(arr)):\n",
    "    if arr[i] > largest:\n",
    "        largest = arr[i]\n",
    "\n",
    "print(largest) "
   ]
  },
  {
   "cell_type": "markdown",
   "metadata": {},
   "source": [
    "#### Find the Second largest element in an array."
   ]
  },
  {
   "cell_type": "code",
   "execution_count": 4,
   "metadata": {},
   "outputs": [
    {
     "name": "stdout",
     "output_type": "stream",
     "text": [
      "7\n",
      "5\n"
     ]
    }
   ],
   "source": [
    "arr=[1,2,2,4,7,3,7,5]\n",
    "largest = arr[0]\n",
    "second_largest = -1\n",
    "\n",
    "for i in range(1, len(arr)):\n",
    "    if arr[i]> largest:\n",
    "        largest = arr[i]\n",
    "\n",
    "for i in range(1,len(arr)):\n",
    "    if arr[i]<largest and arr[i]>second_largest:\n",
    "        second_largest = arr[i]\n",
    "\n",
    "print(largest)\n",
    "print(second_largest)"
   ]
  },
  {
   "cell_type": "code",
   "execution_count": 7,
   "metadata": {},
   "outputs": [
    {
     "name": "stdout",
     "output_type": "stream",
     "text": [
      "7\n",
      "5\n"
     ]
    }
   ],
   "source": [
    "#OPTIMAL SOLUTION\n",
    "arr=[1,2,2,4,7,3,7,5]\n",
    "largest = arr[0]\n",
    "second_largest = -1\n",
    "for i in range(len(arr)):\n",
    "    if arr[i]>largest:\n",
    "        second_largest = largest\n",
    "        largest = arr[i]\n",
    "    else:\n",
    "        arr[i]<largest and arr[i]>second_largest\n",
    "        second_largest = arr[i]\n",
    "print(largest)\n",
    "print(second_largest)\n",
    "\n"
   ]
  },
  {
   "cell_type": "markdown",
   "metadata": {},
   "source": [
    "Check if the array is sorted"
   ]
  },
  {
   "cell_type": "code",
   "execution_count": 12,
   "metadata": {},
   "outputs": [
    {
     "name": "stdout",
     "output_type": "stream",
     "text": [
      "True\n"
     ]
    }
   ],
   "source": [
    "#GPT\n",
    "arr=[1,2,2,4,7,3,7,5]\n",
    "for i in range(1,len(arr)):\n",
    "    if arr[i] >= arr[i-1]:\n",
    "        print(\"Sorted\")\n",
    "    else:\n",
    "        continue\n",
    "print(\"True\")  "
   ]
  },
  {
   "cell_type": "markdown",
   "metadata": {},
   "source": [
    "Left Rotate the array by D places"
   ]
  },
  {
   "cell_type": "code",
   "execution_count": 5,
   "metadata": {},
   "outputs": [
    {
     "name": "stdout",
     "output_type": "stream",
     "text": [
      "[4, 5, 6, 7, 1, 2, 3]\n"
     ]
    }
   ],
   "source": [
    "#Brute\n",
    "\n",
    "arr = [1, 2, 3, 4, 5, 6, 7]\n",
    "d = 3\n",
    "n = len(arr)\n",
    "\n",
    "# Step 1: store first d elements in temp\n",
    "temp = []\n",
    "for i in range(d):\n",
    "    temp.append(arr[i])   # temp = [1,2,3]\n",
    "\n",
    "# Step 2: shift the rest of the elements to the left\n",
    "for i in range(d, n):\n",
    "    arr[i - d] = arr[i]   # move each element d steps left\n",
    "\n",
    "# Step 3: put the saved elements at the end\n",
    "j = 0\n",
    "for i in range(n - d, n):\n",
    "    arr[i] = temp[j]      # copy back from temp\n",
    "    j += 1\n",
    "\n",
    "\n",
    "print(arr)"
   ]
  },
  {
   "cell_type": "code",
   "execution_count": null,
   "metadata": {},
   "outputs": [],
   "source": []
  },
  {
   "cell_type": "markdown",
   "metadata": {},
   "source": [
    "Move all zeroes to the end"
   ]
  },
  {
   "cell_type": "code",
   "execution_count": null,
   "metadata": {},
   "outputs": [
    {
     "name": "stdout",
     "output_type": "stream",
     "text": [
      "[1, 2, 2, 4, 7, 3, 7, 5, 0, 0, 0, 0, 0, 0, 0]\n"
     ]
    }
   ],
   "source": [
    "# Better method\n",
    "# 1. pick up all the non zero elements and put it in the temp arr\n",
    "# 2. add all those non zero elements in the main arr\n",
    "# 3. put the remainig elements i.e. zeroes at the end\n",
    "\n",
    "\n",
    "arr=[1,2,0,0,2,4,7,0,0,0,0,3,0,7,5]\n",
    "\n",
    "temp = []\n",
    "\n",
    "for i in range(len(arr)):\n",
    "    if arr[i]!=0:\n",
    "        temp.append(arr[i])\n",
    "        \n",
    "for i in range(len(temp)):\n",
    "    arr[i]=temp[i]\n",
    "    no_of_non_zero = len(temp)\n",
    "\n",
    "for i in range(no_of_non_zero,len(arr)):\n",
    "    arr[i]=0\n",
    "\n",
    "print(arr)"
   ]
  },
  {
   "cell_type": "code",
   "execution_count": 16,
   "metadata": {},
   "outputs": [
    {
     "name": "stdout",
     "output_type": "stream",
     "text": [
      "[0, 0, 0, 0, 0, 0, 0, 2, 5, 1, 2, 3, 4, 7, 7]\n"
     ]
    }
   ],
   "source": [
    "# at front\n",
    "arr=[1,2,0,0,2,4,7,0,0,0,0,3,0,7,5]\n",
    "j = -1\n",
    "for i in range(len(arr)):\n",
    "    if arr[i]==0:\n",
    "        arr[i],arr[j] = arr[j],arr[i]\n",
    "        j = j + 1\n",
    "print(arr)"
   ]
  },
  {
   "cell_type": "code",
   "execution_count": 17,
   "metadata": {},
   "outputs": [
    {
     "name": "stdout",
     "output_type": "stream",
     "text": [
      "[1, 2, 2, 4, 7, 3, 7, 5, 0, 0, 0, 0, 0, 0, 0]\n"
     ]
    }
   ],
   "source": [
    "#optimal method\n",
    "arr=[1,2,0,0,2,4,7,0,0,0,0,3,0,7,5]\n",
    "j = -1\n",
    "for i in range(len(arr)):\n",
    "    if arr[i]==0:\n",
    "        j = i\n",
    "        break\n",
    "for i in range(j+1,len(arr)):\n",
    "    if arr[i] != 0:\n",
    "        arr[i],arr[j]=arr[j],arr[i]\n",
    "        j  = j + 1\n",
    "print(arr)\n"
   ]
  },
  {
   "cell_type": "markdown",
   "metadata": {},
   "source": [
    "Union of Two Sorted Arrays"
   ]
  },
  {
   "cell_type": "code",
   "execution_count": 30,
   "metadata": {},
   "outputs": [
    {
     "name": "stdout",
     "output_type": "stream",
     "text": [
      "Union: [1, 2, 3, 4, 5, 6]\n"
     ]
    }
   ],
   "source": [
    "arr1 = [1, 1, 2, 3, 4, 5]\n",
    "arr2 = [2, 3, 4, 4, 5, 6]\n",
    "\n",
    "# Create a set to store unique elements\n",
    "st = set()\n",
    "\n",
    "# Add elements from both arrays\n",
    "for i in range(len(arr1)):\n",
    "    st.add(arr1[i])\n",
    "for num in range(len(arr2)):\n",
    "    st.add(arr2[i])\n",
    "\n",
    "# Convert set to list (union result)\n",
    "union_list = list(st)\n",
    "\n",
    "print(\"Union:\", union_list)\n"
   ]
  },
  {
   "cell_type": "code",
   "execution_count": 31,
   "metadata": {},
   "outputs": [
    {
     "name": "stdout",
     "output_type": "stream",
     "text": [
      "Union: [1, 2, 3, 4, 5, 6]\n"
     ]
    }
   ],
   "source": [
    "arr1 = [1, 1, 2, 3, 4, 5]\n",
    "arr2 = [2, 3, 4, 4, 5, 6]\n",
    "\n",
    "# Create a set to store unique elements\n",
    "st = set()\n",
    "\n",
    "# Add elements from both arrays\n",
    "for num in arr1:\n",
    "    st.add(num)\n",
    "for num in arr2:\n",
    "    st.add(num)\n",
    "\n",
    "# Convert set to list (union result)\n",
    "union_list = list(st)\n",
    "\n",
    "print(\"Union:\", union_list)\n"
   ]
  },
  {
   "cell_type": "markdown",
   "metadata": {},
   "source": [
    "Intersection of Two arrays\n"
   ]
  },
  {
   "cell_type": "code",
   "execution_count": 33,
   "metadata": {},
   "outputs": [
    {
     "name": "stdout",
     "output_type": "stream",
     "text": [
      "Intersection: [2, 3, 4, 5]\n"
     ]
    }
   ],
   "source": [
    "arr1 = [1, 1, 2, 3, 4, 5]\n",
    "arr2 = [2, 3, 4, 4, 5, 6]\n",
    "\n",
    "visited = [0] * len(arr2)  # initially mark all as not visited\n",
    "ans = set()  # to store unique intersection elements\n",
    "\n",
    "for i in range(len(arr1)):\n",
    "    for j in range(len(arr2)):\n",
    "        if arr1[i] == arr2[j] and visited[j] == 0:\n",
    "            ans.add(arr1[i])\n",
    "            visited[j] = 1\n",
    "            break  # stop checking this arr1[i] after first match\n",
    "        if arr2[j] > arr1[i]:\n",
    "            break\n",
    "\n",
    "print(\"Intersection:\", list(ans))\n"
   ]
  },
  {
   "cell_type": "code",
   "execution_count": 34,
   "metadata": {},
   "outputs": [
    {
     "name": "stdout",
     "output_type": "stream",
     "text": [
      "Intersection: [2, 3, 4, 5]\n"
     ]
    }
   ],
   "source": [
    "#two pointers\n",
    "arr1 = [1, 1, 2, 3, 4, 5]\n",
    "arr2 = [2, 3, 4, 4, 5, 6]\n",
    "\n",
    "i, j = 0, 0\n",
    "ans = []\n",
    "\n",
    "while i < len(arr1) and j < len(arr2):\n",
    "    if arr1[i] == arr2[j]:\n",
    "        if not ans or ans[-1] != arr1[i]:  # avoid duplicates\n",
    "            ans.append(arr1[i])\n",
    "        i += 1\n",
    "        j += 1\n",
    "    elif arr1[i] < arr2[j]:\n",
    "        i += 1\n",
    "    else:\n",
    "        j += 1\n",
    "\n",
    "print(\"Intersection:\", ans)\n"
   ]
  },
  {
   "cell_type": "markdown",
   "metadata": {},
   "source": [
    "Missing Number"
   ]
  },
  {
   "cell_type": "code",
   "execution_count": 38,
   "metadata": {},
   "outputs": [
    {
     "name": "stdout",
     "output_type": "stream",
     "text": [
      "3\n"
     ]
    }
   ],
   "source": [
    "#Brute\n",
    "arr = [1,2,4,5]\n",
    "for i in range(1,len(arr)):\n",
    "    flag = 0\n",
    "    for j in range(0,len(arr)-1):\n",
    "        if arr[j] == i:\n",
    "            flag = 1\n",
    "            break\n",
    "    if(flag == 0):\n",
    "        print(i) "
   ]
  },
  {
   "cell_type": "code",
   "execution_count": 51,
   "metadata": {},
   "outputs": [
    {
     "name": "stdout",
     "output_type": "stream",
     "text": [
      "3\n"
     ]
    }
   ],
   "source": [
    "#optimal 1\n",
    "arr = [1,2,4,5]\n",
    "n = len(arr) + 1\n",
    "sum = n * (n+1) // 2\n",
    "s2 = 0\n",
    "for i in range(len(arr)):\n",
    "    s2 = s2 + arr[i]\n",
    "print(sum-s2)\n"
   ]
  },
  {
   "cell_type": "code",
   "execution_count": 1,
   "metadata": {},
   "outputs": [
    {
     "data": {
      "text/plain": [
       "7"
      ]
     },
     "execution_count": 1,
     "metadata": {},
     "output_type": "execute_result"
    }
   ],
   "source": [
    "#optimal2\n",
    "arr = [1,2,4,5]\n",
    "xor1 = 0\n",
    "for i in range(1,len(arr)):\n",
    "    xor1 = xor1^i\n",
    "xor2 =0\n",
    "for i in range(0,len(arr)-1):\n",
    "    xor2 = xor2^arr[i]\n",
    "\n",
    "xor1^xor2"
   ]
  },
  {
   "cell_type": "code",
   "execution_count": null,
   "metadata": {},
   "outputs": [],
   "source": [
    "xor2 = 0\n",
    "for i in range(0,len(arr)-1):\n",
    "    xor2 = xor2^arr[i]\n",
    "    xor1 = xor1^(i+1)"
   ]
  },
  {
   "cell_type": "markdown",
   "metadata": {},
   "source": [
    "Maximum Consecutive ones\n"
   ]
  },
  {
   "cell_type": "code",
   "execution_count": null,
   "metadata": {},
   "outputs": [],
   "source": [
    "max = 0\n",
    "count = 0 \n",
    "for i in range(n):\n",
    "    if arr[i]  == 1\n",
    "    "
   ]
  }
 ],
 "metadata": {
  "kernelspec": {
   "display_name": "Python 3",
   "language": "python",
   "name": "python3"
  },
  "language_info": {
   "codemirror_mode": {
    "name": "ipython",
    "version": 3
   },
   "file_extension": ".py",
   "mimetype": "text/x-python",
   "name": "python",
   "nbconvert_exporter": "python",
   "pygments_lexer": "ipython3",
   "version": "3.13.6"
  }
 },
 "nbformat": 4,
 "nbformat_minor": 2
}
