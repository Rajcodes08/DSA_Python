{
 "cells": [
  {
   "cell_type": "markdown",
   "id": "3efe5282",
   "metadata": {},
   "source": [
    "Extraction of Digits\n"
   ]
  },
  {
   "cell_type": "code",
   "execution_count": null,
   "id": "c60cf6f4",
   "metadata": {},
   "outputs": [],
   "source": [
    "n = 7789\n",
    "while(n>1):\n",
    "    last_digit = n % 10\n",
    "    n = n/10\n",
    "    print(int(last_digit))\n"
   ]
  },
  {
   "cell_type": "markdown",
   "id": "9150e39c",
   "metadata": {},
   "source": [
    "Counting Digits\n"
   ]
  },
  {
   "cell_type": "code",
   "execution_count": 37,
   "id": "409ea11e",
   "metadata": {},
   "outputs": [
    {
     "name": "stdout",
     "output_type": "stream",
     "text": [
      "4\n"
     ]
    }
   ],
   "source": [
    "count = 0\n",
    "\n",
    "n = 7789\n",
    "\n",
    "while(n>1):\n",
    "    last_digit = n % 10\n",
    "    count = count + 1\n",
    "    n = n / 10\n",
    "\n",
    "print(count)"
   ]
  },
  {
   "cell_type": "markdown",
   "id": "d486c683",
   "metadata": {},
   "source": [
    "Reverse a number\n"
   ]
  },
  {
   "cell_type": "code",
   "execution_count": 35,
   "id": "b4a53743",
   "metadata": {},
   "outputs": [
    {
     "name": "stdout",
     "output_type": "stream",
     "text": [
      "9877\n"
     ]
    }
   ],
   "source": [
    "n = 7789\n",
    "rev_no = 0\n",
    "\n",
    "while(n>0):\n",
    "    last_digit = n % 10\n",
    "    n = int(n / 10)\n",
    "\n",
    "    rev_no = (rev_no * 10) + last_digit\n",
    "\n",
    "print((rev_no))    "
   ]
  },
  {
   "cell_type": "markdown",
   "id": "4653b234",
   "metadata": {},
   "source": [
    "Check Palindrome\n"
   ]
  },
  {
   "cell_type": "code",
   "execution_count": 34,
   "id": "39953c83",
   "metadata": {},
   "outputs": [
    {
     "name": "stdout",
     "output_type": "stream",
     "text": [
      "121\n",
      "Number is Palindrom\n"
     ]
    }
   ],
   "source": [
    "n = 121\n",
    "dup_no = n\n",
    "rev_no = 0\n",
    "\n",
    "while(n>0):\n",
    "    last_digit = n % 10\n",
    "    n = int(n / 10)\n",
    "\n",
    "    rev_no = (rev_no * 10) + last_digit\n",
    "\n",
    "print((rev_no))   \n",
    "if rev_no == dup_no:\n",
    "    print(\"Number is Palindrom\")\n",
    "else:\n",
    "    print(\"number is not palindrome\")    \n"
   ]
  },
  {
   "cell_type": "markdown",
   "id": "8fc1a51f",
   "metadata": {},
   "source": [
    "Armstrong Number"
   ]
  },
  {
   "cell_type": "code",
   "execution_count": 73,
   "id": "2ea3ff85",
   "metadata": {},
   "outputs": [
    {
     "name": "stdout",
     "output_type": "stream",
     "text": [
      "4\n",
      "1634 is a armstrong number\n"
     ]
    }
   ],
   "source": [
    "n = 1634\n",
    "\n",
    "dup_no = n\n",
    "\n",
    "sum = 0\n",
    "\n",
    "count = len(str(n))\n",
    "print(count)\n",
    "while(n>0):\n",
    "    last_digit = n % 10\n",
    "    sum = sum + (last_digit**count)\n",
    "    n = int(n/ 10)\n",
    "\n",
    "if dup_no == sum:\n",
    "    print(dup_no,\"is a armstrong number\")\n",
    "else:\n",
    "    print(dup_no,\"is not a armstrong number \")    "
   ]
  },
  {
   "cell_type": "markdown",
   "id": "347fc708",
   "metadata": {},
   "source": [
    "Print all Divisors"
   ]
  },
  {
   "cell_type": "code",
   "execution_count": null,
   "id": "231ae22e",
   "metadata": {},
   "outputs": [],
   "source": [
    "n = 12\n",
    "\n",
    "for i in range (1,n+1):\n",
    "    if (n%i == 0):\n",
    "        print(i)"
   ]
  },
  {
   "cell_type": "markdown",
   "id": "19c92f98",
   "metadata": {},
   "source": [
    "Prime Number"
   ]
  },
  {
   "cell_type": "code",
   "execution_count": null,
   "id": "0f8a2ff6",
   "metadata": {},
   "outputs": [],
   "source": [
    "n = 12\n",
    "\n",
    "count = 0\n",
    "\n",
    "for i in range(1,n+1):\n",
    "    if (n%i==0):\n",
    "        count += 1\n",
    "if count==2:\n",
    "    print(\"prime number\")\n",
    "else:\n",
    "    print(\"not prime number\")        "
   ]
  },
  {
   "cell_type": "markdown",
   "id": "5d9aa477",
   "metadata": {},
   "source": [
    "Highest common factor"
   ]
  },
  {
   "cell_type": "code",
   "execution_count": 85,
   "id": "4b8c0895",
   "metadata": {},
   "outputs": [
    {
     "ename": "ZeroDivisionError",
     "evalue": "integer modulo by zero",
     "output_type": "error",
     "traceback": [
      "\u001b[1;31m---------------------------------------------------------------------------\u001b[0m",
      "\u001b[1;31mZeroDivisionError\u001b[0m                         Traceback (most recent call last)",
      "Cell \u001b[1;32mIn[85], line 5\u001b[0m\n\u001b[0;32m      2\u001b[0m b \u001b[38;5;241m=\u001b[39m \u001b[38;5;241m12\u001b[39m\n\u001b[0;32m      4\u001b[0m \u001b[38;5;28;01mfor\u001b[39;00m i \u001b[38;5;129;01min\u001b[39;00m \u001b[38;5;28mrange\u001b[39m(\u001b[38;5;28mmin\u001b[39m(a,b)\u001b[38;5;241m+\u001b[39m\u001b[38;5;241m1\u001b[39m):\n\u001b[1;32m----> 5\u001b[0m     \u001b[38;5;28;01mif\u001b[39;00m(\u001b[43ma\u001b[49m\u001b[43m \u001b[49m\u001b[38;5;241;43m%\u001b[39;49m\u001b[43m \u001b[49m\u001b[43mi\u001b[49m \u001b[38;5;241m==\u001b[39m \u001b[38;5;241m0\u001b[39m \u001b[38;5;129;01mand\u001b[39;00m b \u001b[38;5;241m%\u001b[39m i\u001b[38;5;241m==\u001b[39m \u001b[38;5;241m0\u001b[39m):\n\u001b[0;32m      6\u001b[0m         \u001b[38;5;28mprint\u001b[39m(i)\n",
      "\u001b[1;31mZeroDivisionError\u001b[0m: integer modulo by zero"
     ]
    }
   ],
   "source": [
    "a = 9\n",
    "b = 12\n",
    "\n",
    "for i in range(min(a,b)+1):\n",
    "    if(a % i == 0 and b % i== 0):\n",
    "        print(i)"
   ]
  }
 ],
 "metadata": {
  "kernelspec": {
   "display_name": "Python 3",
   "language": "python",
   "name": "python3"
  },
  "language_info": {
   "codemirror_mode": {
    "name": "ipython",
    "version": 3
   },
   "file_extension": ".py",
   "mimetype": "text/x-python",
   "name": "python",
   "nbconvert_exporter": "python",
   "pygments_lexer": "ipython3",
   "version": "3.12.3"
  }
 },
 "nbformat": 4,
 "nbformat_minor": 5
}
