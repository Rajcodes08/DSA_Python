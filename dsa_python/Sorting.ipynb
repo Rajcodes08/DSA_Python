{
 "cells": [
  {
   "cell_type": "markdown",
   "metadata": {},
   "source": [
    "Selection Sort"
   ]
  },
  {
   "cell_type": "code",
   "execution_count": null,
   "metadata": {},
   "outputs": [
    {
     "name": "stdout",
     "output_type": "stream",
     "text": [
      "[2, 3, 4, 5, 9]\n"
     ]
    }
   ],
   "source": [
    "def selectionSort(arr, n):\n",
    "    for i in range(n-1):\n",
    "        minIndex = i\n",
    "        \n",
    "        for j in range (i+1,n):\n",
    "            if arr[j] < arr[minIndex]:\n",
    "                minIndex = j\n",
    "\n",
    "        #swapping 2 values    \n",
    "        arr[minIndex] , arr[i] = arr[i] , arr[minIndex]\n",
    "        \n",
    "    return arr\n",
    "  \n",
    "\n",
    "n = 5 # size of arr\n",
    "arr = [5,9,2,4,3] #take input in list \n",
    "\n",
    "ans = selectionSort (arr,n)\n",
    "print(ans)\n",
    "\n",
    "# when to use : whenever we have to sort small list of elements, selection sort is best to use.     "
   ]
  },
  {
   "cell_type": "code",
   "execution_count": 5,
   "metadata": {},
   "outputs": [
    {
     "name": "stdout",
     "output_type": "stream",
     "text": [
      "5 10\n"
     ]
    }
   ],
   "source": [
    "def swap(arr, i, j):\n",
    "    # arr[i], arr[j] = arr[j], arr[i]\n",
    "    # print(arr[i], arr[j])\n",
    "\n",
    "    tmp = arr[i]\n",
    "    arr[i] = arr[j]\n",
    "    arr[j] = tmp\n",
    "\n",
    "    print(arr[i], arr[j])\n",
    "\n",
    "    \n",
    "a = 10\n",
    "b = 5\n",
    "\n",
    "tmp = a   # tmp = 10\n",
    "a = b     # a = 5\n",
    "b = tmp \n",
    "print(a, b)"
   ]
  },
  {
   "cell_type": "markdown",
   "metadata": {},
   "source": [
    "Bubble Sort"
   ]
  },
  {
   "cell_type": "code",
   "execution_count": 6,
   "metadata": {},
   "outputs": [
    {
     "name": "stdout",
     "output_type": "stream",
     "text": [
      "Before sorting\n",
      "[2, 5, 3, 6, 1, 7, 4]\n",
      "After sorting\n",
      "[1, 2, 3, 4, 5, 6, 7]\n"
     ]
    }
   ],
   "source": [
    "def bubbleSort(arr, n):\n",
    "\tfor i in range(1, n):\n",
    "\n",
    "\t\tfor j in range(n-1):\n",
    "\t\t\tif arr[j] > arr[j+1]:\n",
    "\t\t\t\tarr[j], arr[j+1] = arr[j+1], arr[j]\n",
    "\n",
    "\n",
    "\n",
    "arr = [2, 5, 3, 6, 1, 7, 4]\n",
    "n = len(arr)\n",
    "\n",
    "print(\"Before sorting\")\n",
    "print(arr)\n",
    "\n",
    "bubbleSort(arr, n)\n",
    "\n",
    "print(\"After sorting\")\n",
    "print(arr)"
   ]
  },
  {
   "cell_type": "markdown",
   "metadata": {},
   "source": [
    "Insertion Sort"
   ]
  },
  {
   "cell_type": "code",
   "execution_count": 1,
   "metadata": {},
   "outputs": [
    {
     "name": "stdout",
     "output_type": "stream",
     "text": [
      "Sorted array : \n",
      "11\n",
      "12\n",
      "22\n",
      "25\n",
      "34\n",
      "64\n",
      "90\n"
     ]
    }
   ],
   "source": [
    "def insertionSort(a):\n",
    "    # storing the length of the given array or list in a variable.\n",
    "    n = len(a)\n",
    "\n",
    "    for i in range(1 , n):\n",
    "        # current is storing the i-th element of the list and\n",
    "        # j is pointing to the index before the current index\n",
    "        current = a[i]\n",
    "        j = i-1\n",
    "\n",
    "        # checking j's boundary condition and \n",
    "        # while the current elemet is smaller than a[j], keep shifting j\n",
    "        # at last place the current element to its correct positon\n",
    "        while j > -1 and current < a[j]:\n",
    "            a[j + 1] = a[j]\n",
    "            j = j - 1\n",
    "\n",
    "        a[j + 1] = current\n",
    "\n",
    "\n",
    "a = [64, 34, 25, 12, 22, 11, 90]\n",
    "insertionSort(a)\n",
    "print(\"Sorted array : \")\n",
    "for i in a:\n",
    "    print(i)"
   ]
  },
  {
   "cell_type": "markdown",
   "metadata": {},
   "source": []
  }
 ],
 "metadata": {
  "kernelspec": {
   "display_name": "Python 3",
   "language": "python",
   "name": "python3"
  },
  "language_info": {
   "codemirror_mode": {
    "name": "ipython",
    "version": 3
   },
   "file_extension": ".py",
   "mimetype": "text/x-python",
   "name": "python",
   "nbconvert_exporter": "python",
   "pygments_lexer": "ipython3",
   "version": "3.12.3"
  }
 },
 "nbformat": 4,
 "nbformat_minor": 2
}
