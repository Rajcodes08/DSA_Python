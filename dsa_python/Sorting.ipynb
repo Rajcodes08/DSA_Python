{
 "cells": [
  {
   "cell_type": "markdown",
   "metadata": {},
   "source": [
    "Selection Sort"
   ]
  },
  {
   "cell_type": "code",
   "execution_count": null,
   "metadata": {},
   "outputs": [
    {
     "name": "stdout",
     "output_type": "stream",
     "text": [
      "[2, 3, 4, 5, 9]\n"
     ]
    }
   ],
   "source": [
    "def selectionSort(arr, n):\n",
    "    for i in range(n-1):\n",
    "        minIndex = i\n",
    "        \n",
    "        for j in range (i+1,n):\n",
    "            if arr[j] < arr[minIndex]:\n",
    "                minIndex = j\n",
    "\n",
    "        #swapping 2 values    \n",
    "        arr[minIndex] , arr[i] = arr[i] , arr[minIndex]\n",
    "        \n",
    "    return arr\n",
    "  \n",
    "\n",
    "n = 5 # size of arr\n",
    "arr = [5,9,2,4,3] #take input in list \n",
    "\n",
    "ans = selectionSort (arr,n)\n",
    "print(ans)\n",
    "\n",
    "# when to use : whenever we have to sort small list of elements, selection sort is best to use.     "
   ]
  },
  {
   "cell_type": "code",
   "execution_count": null,
   "metadata": {},
   "outputs": [
    {
     "ename": "IndentationError",
     "evalue": "expected an indented block after function definition on line 1 (454308739.py, line 2)",
     "output_type": "error",
     "traceback": [
      "\u001b[1;36m  Cell \u001b[1;32mIn[4], line 2\u001b[1;36m\u001b[0m\n\u001b[1;33m    a = 10\u001b[0m\n\u001b[1;37m    ^\u001b[0m\n\u001b[1;31mIndentationError\u001b[0m\u001b[1;31m:\u001b[0m expected an indented block after function definition on line 1\n"
     ]
    }
   ],
   "source": [
    "def swap(arr, i, j):\n",
    "    # arr[i], arr[j] = arr[j], arr[i]\n",
    "    # print(arr[i], arr[j])\n",
    "\n",
    "    tmp = arr[i]\n",
    "    arr[i] = arr[j]\n",
    "    arr[j] = tmp\n",
    "\n",
    "    print(arr[i], arr[j])\n",
    "\n",
    "    \n",
    "a = 10\n",
    "b = 5\n",
    "\n",
    "tmp = a   # tmp = 10\n",
    "a = b     # a = 5\n",
    "b = tmp \n",
    "print(a, b)"
   ]
  },
  {
   "cell_type": "code",
   "execution_count": null,
   "metadata": {},
   "outputs": [],
   "source": []
  }
 ],
 "metadata": {
  "kernelspec": {
   "display_name": "Python 3",
   "language": "python",
   "name": "python3"
  },
  "language_info": {
   "codemirror_mode": {
    "name": "ipython",
    "version": 3
   },
   "file_extension": ".py",
   "mimetype": "text/x-python",
   "name": "python",
   "nbconvert_exporter": "python",
   "pygments_lexer": "ipython3",
   "version": "3.12.3"
  }
 },
 "nbformat": 4,
 "nbformat_minor": 2
}
