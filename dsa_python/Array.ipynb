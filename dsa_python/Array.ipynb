{
 "cells": [
  {
   "cell_type": "markdown",
   "metadata": {},
   "source": [
    "#ARRAYS- Its a data structure with similar elemets(is can be integers)imp- it can contain only one type of data, like either a string type or integer type but not toghther.(it can be char,int,string,pair)"
   ]
  },
  {
   "cell_type": "markdown",
   "metadata": {},
   "source": [
    "Ques: Find the largest element in an array.\n",
    "arr=[1,2,2,3,5]"
   ]
  },
  {
   "cell_type": "code",
   "execution_count": 4,
   "metadata": {},
   "outputs": [
    {
     "data": {
      "text/plain": [
       "5"
      ]
     },
     "execution_count": 4,
     "metadata": {},
     "output_type": "execute_result"
    }
   ],
   "source": [
    "arr=[1,2,2,3,5]\n",
    "\n",
    "arr[4]\n",
    "\n"
   ]
  },
  {
   "cell_type": "markdown",
   "metadata": {},
   "source": [
    "#### Find the largest element in an array.\n",
    "arr=[1,2,2,3,5]"
   ]
  },
  {
   "cell_type": "code",
   "execution_count": 1,
   "metadata": {},
   "outputs": [
    {
     "name": "stdout",
     "output_type": "stream",
     "text": [
      "6\n"
     ]
    }
   ],
   "source": [
    "arr=[1,2,6,3,5]\n",
    "\n",
    "largest = arr[0]\n",
    "for i in range(1, len(arr)):\n",
    "    if arr[i] > largest:\n",
    "        largest = arr[i]\n",
    "\n",
    "print(largest) "
   ]
  },
  {
   "cell_type": "markdown",
   "metadata": {},
   "source": [
    "#### Find the Second largest element in an array."
   ]
  },
  {
   "cell_type": "code",
   "execution_count": 8,
   "metadata": {},
   "outputs": [
    {
     "name": "stdout",
     "output_type": "stream",
     "text": [
      "7\n"
     ]
    }
   ],
   "source": [
    "arr=[1,2,2,4,7,3,7,5]\n",
    "largest = arr[0]\n",
    "second_largest = -1\n",
    "\n",
    "for i in range(1, len(arr)):\n",
    "    if arr[i]> largest:\n",
    "        largest = arr[i]\n",
    "\n",
    "for i in range(1,len(arr)):\n",
    "    if arr[i]>largest && arr[i]  "
   ]
  },
  {
   "cell_type": "code",
   "execution_count": 1,
   "metadata": {},
   "outputs": [
    {
     "name": "stdout",
     "output_type": "stream",
     "text": [
      "helo\n"
     ]
    }
   ],
   "source": [
    "print(\"helo\")"
   ]
  },
  {
   "cell_type": "code",
   "execution_count": null,
   "metadata": {},
   "outputs": [],
   "source": []
  },
  {
   "cell_type": "markdown",
   "metadata": {},
   "source": [
    "# Length of array"
   ]
  },
  {
   "cell_type": "code",
   "execution_count": 2,
   "metadata": {},
   "outputs": [
    {
     "name": "stdout",
     "output_type": "stream",
     "text": [
      "3\n"
     ]
    }
   ],
   "source": [
    "print(len([1,4,6]))"
   ]
  },
  {
   "cell_type": "markdown",
   "metadata": {},
   "source": [
    "Max & Min Value"
   ]
  },
  {
   "cell_type": "code",
   "execution_count": 12,
   "metadata": {},
   "outputs": [
    {
     "name": "stdout",
     "output_type": "stream",
     "text": [
      "Maximum value is 5\n",
      "Minimum value is 1\n"
     ]
    }
   ],
   "source": [
    "def get_min(arr):\n",
    "    mini = float('inf')\n",
    "    for num in arr:\n",
    "        mini = min(mini, num)\n",
    "    return mini\n",
    "\n",
    "def get_max(arr):\n",
    "    maxi = float('-inf')\n",
    "    for num in arr:\n",
    "        maxi = max(maxi, num)\n",
    "    return maxi\n",
    "\n",
    "def main():\n",
    "    size = int(6)\n",
    "    arr = [1,2,3,4,5]\n",
    "    \n",
    "    print(\"Maximum value is\", get_max(arr))\n",
    "    print(\"Minimum value is\", get_min(arr))\n",
    "\n",
    "if __name__ == \"__main__\":\n",
    "    main()\n"
   ]
  },
  {
   "cell_type": "markdown",
   "metadata": {},
   "source": [
    "Given an array of N integers, left rotate the array by one place."
   ]
  },
  {
   "cell_type": "code",
   "execution_count": null,
   "metadata": {},
   "outputs": [],
   "source": [
    "\n",
    "def solve(arr, n):\n",
    "    temp = arr[0]  # storing the first element of the array in a variable\n",
    "    for i in range(n - 1):\n",
    "        arr[i] = arr[i + 1]\n",
    "    arr[n - 1] = temp  # assign the value of the variable at the last index\n",
    "    for i in range(n):\n",
    "        print(arr[i], end=\" \")\n",
    "\n",
    "n = 5\n",
    "arr = [1, 2, 3, 4, 5]\n",
    "solve(arr, n)"
   ]
  },
  {
   "cell_type": "markdown",
   "metadata": {},
   "source": [
    " Given an array of integers, rotating array of elements by k elements either left or right."
   ]
  },
  {
   "cell_type": "code",
   "execution_count": 1,
   "metadata": {},
   "outputs": [
    {
     "name": "stdout",
     "output_type": "stream",
     "text": [
      "After rotating the elements to the right:\n",
      "[6, 7, 1, 2, 3, 4, 5]\n"
     ]
    }
   ],
   "source": [
    "def rotate_to_right(arr, k):\n",
    "    n = len(arr)\n",
    "    if n == 0:\n",
    "        return\n",
    "    k = k % n  # Handle cases where k > n\n",
    "    if k > n:\n",
    "        return\n",
    "    \n",
    "    temp = arr[-k:]  # Store last k elements\n",
    "    arr[k:] = arr[:-k]  # Shift elements to the right\n",
    "    arr[:k] = temp  # Copy stored elements to the beginning\n",
    "    \n",
    "# Example usage\n",
    "arr = [1, 2, 3, 4, 5, 6, 7]\n",
    "k = 2\n",
    "rotate_to_right(arr, k)\n",
    "print(\"After rotating the elements to the right:\")\n",
    "print(arr)\n"
   ]
  },
  {
   "cell_type": "code",
   "execution_count": null,
   "metadata": {},
   "outputs": [],
   "source": []
  }
 ],
 "metadata": {
  "kernelspec": {
   "display_name": "Python 3",
   "language": "python",
   "name": "python3"
  },
  "language_info": {
   "codemirror_mode": {
    "name": "ipython",
    "version": 3
   },
   "file_extension": ".py",
   "mimetype": "text/x-python",
   "name": "python",
   "nbconvert_exporter": "python",
   "pygments_lexer": "ipython3",
   "version": "3.12.3"
  }
 },
 "nbformat": 4,
 "nbformat_minor": 2
}
