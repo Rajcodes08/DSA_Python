{
 "cells": [
  {
   "cell_type": "code",
   "execution_count": 5,
   "id": "a16b3a61",
   "metadata": {},
   "outputs": [
    {
     "name": "stdout",
     "output_type": "stream",
     "text": [
      "Enter left  child of2\n",
      "Enter left  child of1\n",
      "Enter rigt child of1\n",
      "Enter rigt child of2\n",
      "Enter left  child of3\n",
      "Enter rigt child of3\n",
      "<__main__.BTNode object at 0x000002394D7323C0>\n"
     ]
    }
   ],
   "source": [
    "class BTNode:\n",
    "    def __init__(self,d):\n",
    "        self.data = d\n",
    "        self.left = None\n",
    "        self.right = None\n",
    "\n",
    "def buildTree():\n",
    "    data = input(\"Enter data\")\n",
    "    data = int(data)\n",
    "\n",
    "    if data == -1:\n",
    "        return None\n",
    "    \n",
    "    root = BTNode(data)\n",
    "    \n",
    "    print(f\"Enter left  child of{data}\")\n",
    "    root.left = buildTree()\n",
    "\n",
    "    print(f\"Enter rigt child of{data}\")\n",
    "    root.right = buildTree()\n",
    "\n",
    "    return root\n",
    "\n",
    "root = buildTree()\n",
    "\n",
    "\n",
    "print(root)"
   ]
  },
  {
   "cell_type": "markdown",
   "id": "65a439a3",
   "metadata": {},
   "source": [
    "Sum of Longets Bloodline "
   ]
  },
  {
   "cell_type": "code",
   "execution_count": null,
   "id": "16e5880c",
   "metadata": {},
   "outputs": [
    {
     "ename": "TypeError",
     "evalue": "Solve() missing 5 required positional arguments: 'root', 'sum', 'maxsum', 'len', and 'maxlen'",
     "output_type": "error",
     "traceback": [
      "\u001b[31m---------------------------------------------------------------------------\u001b[39m",
      "\u001b[31mTypeError\u001b[39m                                 Traceback (most recent call last)",
      "\u001b[36mCell\u001b[39m\u001b[36m \u001b[39m\u001b[32mIn[8]\u001b[39m\u001b[32m, line 20\u001b[39m\n\u001b[32m     18\u001b[39m     Solve(root,\u001b[38;5;28msum\u001b[39m,maxsum,\u001b[38;5;28mlen\u001b[39m,maxlen)\n\u001b[32m     19\u001b[39m     \u001b[38;5;28;01mreturn\u001b[39;00m maxsum\n\u001b[32m---> \u001b[39m\u001b[32m20\u001b[39m \u001b[43mSolve\u001b[49m\u001b[43m(\u001b[49m\u001b[43m)\u001b[49m\n",
      "\u001b[31mTypeError\u001b[39m: Solve() missing 5 required positional arguments: 'root', 'sum', 'maxsum', 'len', and 'maxlen'"
     ]
    }
   ],
   "source": [
    "def Solve(root,sum,maxsum,len,maxlen):\n",
    "    if root is None:\n",
    "        if(len>maxlen):\n",
    "            maxlen = len\n",
    "            maxsum = Sum\n",
    "        elif(len==maxlen):\n",
    "            maxsum == max(sum,maxsum)\n",
    "        return\n",
    "    sum = sum + root.data\n",
    "    Solve(root.left,sum,maxsum,len+1,maxlen)\n",
    "    Solve(root.right,sum,maxsum,len+1,maxlen)\n",
    "\n",
    "def sumOflongestRoute(root):\n",
    "    len = 0\n",
    "    maxlen = 0\n",
    "    sum = 0\n",
    "    maxsum = float('-inf')\n",
    "    Solve(root,sum,maxsum,len,maxlen)\n",
    "    return maxsum\n"
   ]
  }
 ],
 "metadata": {
  "kernelspec": {
   "display_name": "Python 3",
   "language": "python",
   "name": "python3"
  },
  "language_info": {
   "codemirror_mode": {
    "name": "ipython",
    "version": 3
   },
   "file_extension": ".py",
   "mimetype": "text/x-python",
   "name": "python",
   "nbconvert_exporter": "python",
   "pygments_lexer": "ipython3",
   "version": "3.13.5"
  }
 },
 "nbformat": 4,
 "nbformat_minor": 5
}
