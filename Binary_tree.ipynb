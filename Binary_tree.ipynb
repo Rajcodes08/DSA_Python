{
 "cells": [
  {
   "cell_type": "code",
   "execution_count": 4,
   "id": "bab9ae84",
   "metadata": {},
   "outputs": [],
   "source": [
    "class BTNode:\n",
    "    def __init__(self, d):\n",
    "        self.data = d\n",
    "        self.left = None\n",
    "        self.right = None\n",
    "\n",
    "def buildTree():\n",
    "    data = input(\"Enter Data (or -1 for NULL): \")\n",
    "    data = int(data)\n",
    "    \n",
    "    # Base case: if data is -1, return None (NULL node)\n",
    "    if data == -1:\n",
    "        return None\n",
    "    \n",
    "    # Here we are taking root value. Create node only after confirming data is valid\n",
    "    root = BTNode(data) \n",
    "    \n",
    "    # Recursively build left subtree\n",
    "    print(f\"Enter left child of {data}\")\n",
    "    root.left = buildTree()\n",
    "    \n",
    "    # Recursively build right subtree\n",
    "    print(f\"Enter right child of {data}\")\n",
    "    root.right = buildTree()\n",
    "    \n",
    "    return root"
   ]
  },
  {
   "cell_type": "markdown",
   "id": "3612a1e5",
   "metadata": {},
   "source": []
  },
  {
   "cell_type": "code",
   "execution_count": 5,
   "id": "fc612a6a",
   "metadata": {},
   "outputs": [],
   "source": [
    "## Preorder Traversal\n",
    "def preorderTraversal(root):\n",
    "    \"\"\"Helper function to display the tree in preorder\"\"\"\n",
    "    if root is None:\n",
    "        return\n",
    "    print(root.data, end=\" \")\n",
    "    preorderTraversal(root.left)\n",
    "    preorderTraversal(root.right)"
   ]
  },
  {
   "cell_type": "code",
   "execution_count": 6,
   "id": "7e48475f",
   "metadata": {},
   "outputs": [],
   "source": [
    "## Inorder Traversal\n",
    "def inorderTraversal(root):\n",
    "    \"\"\"Helper function to display the tree in inorder\"\"\"\n",
    "    if root is None:\n",
    "        return\n",
    "    inorderTraversal(root.left)\n",
    "    print(root.data, end=\" \")\n",
    "    inorderTraversal(root.right)"
   ]
  },
  {
   "cell_type": "code",
   "execution_count": 7,
   "id": "3c277dec",
   "metadata": {},
   "outputs": [],
   "source": [
    "## Post Traversal\n",
    "def postorderTraversal(root):\n",
    "    \"\"\"Helper function to display the tree in postorder\"\"\"\n",
    "    if root is None:\n",
    "        return\n",
    "    postorderTraversal(root.left)\n",
    "    postorderTraversal(root.right)\n",
    "    print(root.data, end=\" \")\n"
   ]
  },
  {
   "cell_type": "code",
   "execution_count": 14,
   "id": "ed247548",
   "metadata": {},
   "outputs": [
    {
     "name": "stdout",
     "output_type": "stream",
     "text": [
      "Building a binary tree...\n",
      "Enter -1 for NULL nodes\n",
      "Enter left child of 1\n",
      "Enter left child of 3\n",
      "Enter left child of 7\n",
      "Enter right child of 7\n",
      "Enter right child of 3\n",
      "Enter left child of 11\n",
      "Enter right child of 11\n",
      "Enter right child of 1\n",
      "Enter left child of 5\n",
      "Enter left child of 17\n",
      "Enter right child of 17\n",
      "Enter right child of 5\n"
     ]
    }
   ],
   "source": [
    "print(\"Building a binary tree...\")\n",
    "print(\"Enter -1 for NULL nodes\")\n",
    "\n",
    "root = buildTree()"
   ]
  },
  {
   "cell_type": "code",
   "execution_count": 16,
   "id": "8aeb1fbd",
   "metadata": {},
   "outputs": [
    {
     "name": "stdout",
     "output_type": "stream",
     "text": [
      "\n",
      "Preorder traversal: 1 3 7 11 5 17 "
     ]
    }
   ],
   "source": [
    "print(\"\\nPreorder traversal: \", end=\"\")\n",
    "preorderTraversal(root)"
   ]
  },
  {
   "cell_type": "code",
   "execution_count": 15,
   "id": "9562bb2f",
   "metadata": {},
   "outputs": [
    {
     "name": "stdout",
     "output_type": "stream",
     "text": [
      "Inorder traversal: 7 3 11 1 17 5 "
     ]
    }
   ],
   "source": [
    "print(\"Inorder traversal: \", end=\"\")\n",
    "inorderTraversal(root)"
   ]
  },
  {
   "cell_type": "code",
   "execution_count": 17,
   "id": "2110b049",
   "metadata": {},
   "outputs": [
    {
     "name": "stdout",
     "output_type": "stream",
     "text": [
      "Postorder traversal: 7 11 3 17 5 1 "
     ]
    }
   ],
   "source": [
    "print(\"Postorder traversal: \", end=\"\")\n",
    "postorderTraversal(root)"
   ]
  },
  {
   "cell_type": "code",
   "execution_count": 18,
   "id": "8ed58ac0",
   "metadata": {},
   "outputs": [
    {
     "name": "stdout",
     "output_type": "stream",
     "text": [
      "1\n"
     ]
    }
   ],
   "source": [
    "from collections import deque\n",
    "q = deque()\n",
    "q.append(root)\n",
    "print(len(q))\n",
    "\n",
    "class BTNode:\n",
    "    def __init__(self, d):\n",
    "        self.data = d\n",
    "        self.left = None\n",
    "        self.right = None\n",
    "\n",
    "## LevelOrder Traversal(BFS)\n",
    "def LevelOrderTraversal(root):\n",
    "    q = deque()\n",
    "    q.append(root)\n",
    "    q.append(None)\n",
    "    while len(q) != 0:\n",
    "        temp = q[0] \n",
    "        q.popleft()\n",
    "\n",
    "        if temp == None:\n",
    "            print(\"\\n\")\n",
    "            if len(q) != 0:\n",
    "                q.append(None)\n",
    "        else:\n",
    "            print(temp.data , end=\" \")      \n",
    "\n",
    "            if temp.left is not None:\n",
    "                q.append(temp.left)\n",
    "            if temp.right is not None:\n",
    "                q.append(temp.right)\n",
    "\n"
   ]
  },
  {
   "cell_type": "code",
   "execution_count": 19,
   "id": "e2c2c480",
   "metadata": {},
   "outputs": [
    {
     "name": "stdout",
     "output_type": "stream",
     "text": [
      "\n",
      "Level Order Traversal:\n",
      "1 \n",
      "\n",
      "3 5 \n",
      "\n",
      "7 11 17 \n",
      "\n"
     ]
    }
   ],
   "source": [
    "print(\"\\nLevel Order Traversal:\")\n",
    "LevelOrderTraversal(root)"
   ]
  },
  {
   "cell_type": "code",
   "execution_count": null,
   "id": "cfd874f8",
   "metadata": {},
   "outputs": [
    {
     "name": "stdout",
     "output_type": "stream",
     "text": [
      "Number of leaf nodes: 3\n"
     ]
    }
   ],
   "source": []
  },
  {
   "cell_type": "markdown",
   "id": "7753a146",
   "metadata": {},
   "source": [
    "Count Leaf Nodes using a list"
   ]
  },
  {
   "cell_type": "code",
   "execution_count": null,
   "id": "92bc8a24",
   "metadata": {},
   "outputs": [
    {
     "name": "stdout",
     "output_type": "stream",
     "text": [
      "Number of leaf nodes: 3\n"
     ]
    }
   ],
   "source": [
    "# approch 1\n",
    "\n",
    "class BTNode:\n",
    "    def __init__(self, d):\n",
    "        self.data = d            # Store value at this node\n",
    "        self.left = None         # Reference to left child\n",
    "        self.right = None        # Reference to right child\n",
    "\n",
    "\n",
    "# Recursive function to count leaf nodes using inorder traversal\n",
    "def inorder(root, count):\n",
    "    if root is None:\n",
    "        return\n",
    "    else:\n",
    "        # Step 1: Traverse the left subtree\n",
    "        inorder(root.left, count)\n",
    "\n",
    "        # Step 2: Check if the current node is a leaf node\n",
    "        if root.left is None and root.right is None:\n",
    "            count[0] += 1  # It is a leaf node, so increment the count\n",
    "\n",
    "        # Step 3: Traverse the right subtree\n",
    "        inorder(root.right, count)\n",
    "\n",
    "\n",
    "# Main function that initializes counting\n",
    "def NoOfLeafNodes(root):\n",
    "    # We use a list to allow the count to be updated inside the recursive calls\n",
    "    count = [0]\n",
    "\n",
    "    # If the tree is empty, return 0\n",
    "    if root is None:\n",
    "        return 0\n",
    "    else:\n",
    "        # Start traversal and counting\n",
    "        inorder(root, count)\n",
    "\n",
    "        # Return the final count of leaf nodes\n",
    "        return count[0]\n",
    "\n",
    "\n",
    "# Manually create a test tree\n",
    "#        1\n",
    "#       / \\\n",
    "#      2   3\n",
    "#         / \\\n",
    "#        4   5\n",
    "# we can build tree of our own by root = BuildTree()\n",
    "root = BTNode(1)\n",
    "root.left = BTNode(2)\n",
    "root.right = BTNode(3)\n",
    "root.right.left = BTNode(4)\n",
    "root.right.right = BTNode(5)\n",
    "\n",
    "# Call the function and print the result\n",
    "ans = NoOfLeafNodes(root)\n",
    "print(\"Number of leaf nodes:\", ans)\n"
   ]
  },
  {
   "cell_type": "code",
   "execution_count": 76,
   "id": "4669067d",
   "metadata": {},
   "outputs": [
    {
     "name": "stdout",
     "output_type": "stream",
     "text": [
      "3\n"
     ]
    }
   ],
   "source": [
    "##(approch-2)\n",
    "def Countleaves(root):\n",
    "    if root is None:\n",
    "        return 0\n",
    "    if root.left is None and root.right is None:\n",
    "        return 1\n",
    "\n",
    "    leftans = Countleaves(root.left)\n",
    "    rightans = Countleaves(root.right)\n",
    "    finalans = leftans + rightans\n",
    "    return finalans \n",
    "               \n",
    "ans = Countleaves(root)\n",
    "print(ans)"
   ]
  },
  {
   "cell_type": "markdown",
   "id": "04e77547",
   "metadata": {},
   "source": [
    "Height of a Binary tree "
   ]
  },
  {
   "cell_type": "code",
   "execution_count": 25,
   "id": "a217d954",
   "metadata": {},
   "outputs": [
    {
     "name": "stdout",
     "output_type": "stream",
     "text": [
      "Height of tree: 3\n"
     ]
    }
   ],
   "source": [
    "## Longest path between root node and leaf node\n",
    "\n",
    "class Solutions:\n",
    "    def height(self,node):\n",
    "        if node == None:\n",
    "            return 0\n",
    "        left = self.height(node.left)\n",
    "        right = self.height(node.right)\n",
    "        ans = max(left,right) + 1\n",
    "\n",
    "        return ans\n",
    "sol = Solutions()\n",
    "print(\"Height of tree:\", sol.height(root))\n"
   ]
  },
  {
   "cell_type": "code",
   "execution_count": 26,
   "id": "8059157c",
   "metadata": {},
   "outputs": [
    {
     "name": "stdout",
     "output_type": "stream",
     "text": [
      "3\n"
     ]
    }
   ],
   "source": [
    "# without class\n",
    "\n",
    "def height(root):\n",
    "    if root is None:\n",
    "        return 0\n",
    "    left = height(root.left)\n",
    "    right = height(root.right)\n",
    "    return max(left, right) + 1\n",
    "print(height(root))"
   ]
  },
  {
   "cell_type": "code",
   "execution_count": 27,
   "id": "370fed7a",
   "metadata": {},
   "outputs": [
    {
     "name": "stdout",
     "output_type": "stream",
     "text": [
      "Enter left child of 3\n",
      "Enter left child of 2\n",
      "Enter left child of 1\n",
      "Enter right child of 1\n",
      "Enter right child of 2\n",
      "Enter right child of 3\n",
      "Enter left child of 4\n",
      "Enter right child of 4\n",
      "Enter left child of 5\n",
      "Enter right child of 5\n",
      "height of the tree is: 3\n"
     ]
    }
   ],
   "source": [
    "# create own tree to find height\n",
    "#     3\n",
    "#    2 4\n",
    "#   1   5\n",
    "def height(root):\n",
    "    if root is None:\n",
    "        return 0\n",
    "    left = height(root.left)\n",
    "    right = height(root.right)\n",
    "    return max(left,right) + 1\n",
    "\n",
    "root = buildTree() # iski through new tree create krke height nikal lo\n",
    "\n",
    "print(\"height of the tree is:\",height(root))"
   ]
  },
  {
   "cell_type": "markdown",
   "id": "9175795f",
   "metadata": {},
   "source": [
    "Diameter of a Tree"
   ]
  },
  {
   "cell_type": "code",
   "execution_count": 30,
   "id": "3fe6ac03",
   "metadata": {},
   "outputs": [
    {
     "name": "stdout",
     "output_type": "stream",
     "text": [
      "5\n"
     ]
    }
   ],
   "source": [
    "## Longest path between any two end nodes(leaf or root)\n",
    "#     3\n",
    "#    2 4\n",
    "#   1   5\n",
    "\n",
    "def height(root):\n",
    "    if root is None:\n",
    "        return 0\n",
    "    left = height(root.left)\n",
    "    right = height(root.right)\n",
    "\n",
    "    ans = max(left,right) + 1\n",
    "    return ans\n",
    "height(root)     \n",
    "\n",
    "def diameter(root):\n",
    "    if root is None:\n",
    "        return 0\n",
    "\n",
    "    opt1 = diameter(root.left)\n",
    "    opt2 = diameter(root.right)\n",
    "    opt3 = height(root.left) + height(root.right) + 1 \n",
    "    ans =  max(opt1,opt2,opt3)\n",
    "    return ans\n",
    "print(diameter(root))"
   ]
  },
  {
   "cell_type": "code",
   "execution_count": 109,
   "id": "93e4f50a",
   "metadata": {},
   "outputs": [
    {
     "name": "stdout",
     "output_type": "stream",
     "text": [
      "5\n"
     ]
    }
   ],
   "source": [
    "def diameterFast(root):\n",
    "    if root is None:\n",
    "        return (0,0)\n",
    "\n",
    "    left_diameter , left_height = diameterFast(root.left)\n",
    "    right_diameter , right_height = diameterFast(root.right)\n",
    "\n",
    "    opt1 = left_diameter\n",
    "    opt2 = right_diameter\n",
    "    opt3 = left_height + right_height + 1\n",
    "\n",
    "    diameter = max(opt1,opt2,opt3)\n",
    "    height = max(left_height,right_height) + 1\n",
    "    return diameter,height\n",
    "\n",
    "ans = diameterFast(root)\n",
    "print(ans[0])\n"
   ]
  },
  {
   "cell_type": "markdown",
   "id": "a39efe36",
   "metadata": {},
   "source": [
    "Check for Balanced Tree\n",
    "approch: "
   ]
  },
  {
   "cell_type": "code",
   "execution_count": 31,
   "id": "6a68ad18",
   "metadata": {},
   "outputs": [
    {
     "data": {
      "text/plain": [
       "1"
      ]
     },
     "execution_count": 31,
     "metadata": {},
     "output_type": "execute_result"
    }
   ],
   "source": [
    "def height(node):\n",
    "    if node is None:\n",
    "        return 0\n",
    "    left = height(node.left)\n",
    "    right = height(node.right)\n",
    "\n",
    "    ans = max(left,right) + 1\n",
    "    return ans\n",
    "height(root)     \n",
    "\n",
    "def isBalanced(node):\n",
    "    if node is None:\n",
    "        return True\n",
    "    left = isBalanced(node.left)\n",
    "    right = isBalanced(node.right)\n",
    "    diff = abs(height(node.left)-height(node.right)) <= 1\n",
    "\n",
    "    if left and right and diff:\n",
    "        return 1\n",
    "    else:\n",
    "        return False\n",
    "isBalanced(root)  "
   ]
  },
  {
   "cell_type": "code",
   "execution_count": 35,
   "id": "698e31ef",
   "metadata": {},
   "outputs": [
    {
     "data": {
      "text/plain": [
       "False"
      ]
     },
     "execution_count": 35,
     "metadata": {},
     "output_type": "execute_result"
    }
   ],
   "source": [
    "def isIdentical(node1,node2):\n",
    "    if node1 is None and node2 is None:\n",
    "        return True\n",
    "    if node1 is None and node2 is not None:\n",
    "        return False\n",
    "    if node1 is not None and node2 is not None:\n",
    "        return False\n",
    "\n",
    "    Left = isIdentical(node1.left,node2.left)\n",
    "    right = isIdentical(node1.right,node2.right)\n",
    "    value = node1.data == node2.data\n",
    "\n",
    "    if left and right and value:\n",
    "        return True\n",
    "    else:\n",
    "        return False \n",
    "isIdentical(2,3)"
   ]
  },
  {
   "cell_type": "code",
   "execution_count": 5,
   "id": "eda755df",
   "metadata": {},
   "outputs": [
    {
     "name": "stdout",
     "output_type": "stream",
     "text": [
      "Enter left child of 1\n",
      "Enter left child of 2\n",
      "Enter right child of 2\n",
      "Enter right child of 1\n",
      "Enter left child of 3\n",
      "Enter right child of 3\n",
      "Trees are NOT identical\n"
     ]
    }
   ],
   "source": [
    "def isIdentical(node1, node2):\n",
    "    if node1 is None and node2 is None:\n",
    "        return True\n",
    "    if node1 is None or node2 is None:\n",
    "        return False\n",
    "    left = isIdentical(node1.left, node2.left)\n",
    "    right = isIdentical(node1.right, node2.right)\n",
    "    value = node1.data == node2.data\n",
    "\n",
    "    return left and right and value\n",
    "\n",
    "root1 = buildTree()\n",
    "root2 = buildTree()\n",
    "\n",
    "if isIdentical(root1, root2):\n",
    "    print(\"Trees are identical\")\n",
    "else:\n",
    "    print(\"Trees are NOT identical\")\n"
   ]
  },
  {
   "cell_type": "markdown",
   "id": "ca7081bc",
   "metadata": {},
   "source": [
    "Check Sumtree "
   ]
  },
  {
   "cell_type": "code",
   "execution_count": 6,
   "id": "a2f6ab80",
   "metadata": {},
   "outputs": [
    {
     "name": "stdout",
     "output_type": "stream",
     "text": [
      "Enter left child of 5\n",
      "Enter left child of 2\n",
      "Enter right child of 2\n",
      "Enter right child of 5\n",
      "Enter left child of 3\n",
      "Enter right child of 3\n",
      "This is a Sum Tree.\n"
     ]
    }
   ],
   "source": [
    "def isSumTree(root):\n",
    "    if root is None:\n",
    "        return True\n",
    "    if root.left is None and root.right is None:\n",
    "        return True\n",
    "    left_sum = sumSubtree(root.left)\n",
    "    right_sum = sumSubtree(root.right)\n",
    "\n",
    "    if root.data == left_sum + right_sum:\n",
    "        return isSumTree(root.left) and isSumTree(root.right)\n",
    "    else:\n",
    "        return False\n",
    "\n",
    "\n",
    "def sumSubtree(node):\n",
    "    if node is None:\n",
    "        return 0\n",
    "    return sumSubtree(node.left) + node.data + sumSubtree(node.right)\n",
    "\n",
    "root = buildTree()  \n",
    "if isSumTree(root):\n",
    "    print(\"This is a Sum Tree.\")\n",
    "else:\n",
    "    print(\"This is NOT a Sum Tree.\")\n"
   ]
  },
  {
   "cell_type": "markdown",
   "id": "4f32be30",
   "metadata": {},
   "source": [
    "Zig Zag Traversal"
   ]
  },
  {
   "cell_type": "code",
   "execution_count": null,
   "id": "314619e1",
   "metadata": {},
   "outputs": [],
   "source": [
    "def Zigzag(root):\n",
    "    if root is None:\n",
    "        return []\n",
    "    result = []\n",
    "    q = deque()\n",
    "    q.append(root)\n",
    "    \n",
    "    LeftToRight = True\n",
    "\n",
    "    while len(q) != 0:\n",
    "        size = q.size()\n",
    "        ans(size) = []\n",
    "        for i in range(size):\n",
    "            frontnode = q.front()\n",
    "            q.popleft()\n"
   ]
  },
  {
   "cell_type": "code",
   "execution_count": null,
   "id": "2e762d68",
   "metadata": {},
   "outputs": [],
   "source": [
    "from collections import deque\n",
    "\n",
    "class BTNode:\n",
    "    def __init__(self, d):\n",
    "        self.data = d\n",
    "        self.left = None\n",
    "        self.right = None\n",
    "\n",
    "def zigzagTraversal(root):\n",
    "    if root is None:\n",
    "        return []\n",
    "\n",
    "    result = []\n",
    "    q = deque()\n",
    "    q.append(root)\n",
    "    \n",
    "    leftToRight = True\n",
    "\n",
    "    while q:\n",
    "        level_size = len(q)\n",
    "        level = [0] * level_size  # Temporary list to store current level\n",
    "\n",
    "        for i in range(level_size):\n",
    "            node = q.popleft()\n",
    "\n",
    "            # Place node's data in correct position based on direction\n",
    "            index = i if leftToRight else (level_size - 1 - i)\n",
    "            level[index] = node.data\n",
    "\n",
    "            # Push children into queue for next level\n",
    "            if node.left:\n",
    "                q.append(node.left)\n",
    "            if node.right:\n",
    "                q.append(node.right)\n",
    "\n",
    "        # After one level, flip direction\n",
    "        leftToRight = not leftToRight\n",
    "        result.extend(level)\n",
    "\n",
    "    return result\n"
   ]
  },
  {
   "cell_type": "markdown",
   "id": "4ec8e835",
   "metadata": {},
   "source": [
    "Boundary traversal"
   ]
  },
  {
   "cell_type": "code",
   "execution_count": 1,
   "id": "9528d865",
   "metadata": {},
   "outputs": [],
   "source": [
    "class BTNode:\n",
    "    def __init__(self, d):\n",
    "        self.data = d\n",
    "        self.left = None\n",
    "        self.right = None\n",
    "\n",
    "\n",
    "def isLeaf(node):\n",
    "    return node.left is None and node.right is None\n",
    "\n",
    "\n",
    "def addLeftBoundary(root, res):\n",
    "    curr = root.left\n",
    "    while curr:\n",
    "        if not isLeaf(curr):\n",
    "            res.append(curr.data)\n",
    "        if curr.left:\n",
    "            curr = curr.left\n",
    "        else:\n",
    "            curr = curr.right\n",
    "\n",
    "\n",
    "def addLeaves(root, res):\n",
    "    if root is None:\n",
    "        return\n",
    "    if isLeaf(root):\n",
    "        res.append(root.data)\n",
    "        return\n",
    "    addLeaves(root.left, res)\n",
    "    addLeaves(root.right, res)\n",
    "\n",
    "\n",
    "def addRightBoundary(root, res):\n",
    "    curr = root.right\n",
    "    tmp = []\n",
    "    while curr:\n",
    "        if not isLeaf(curr):\n",
    "            tmp.append(curr.data)\n",
    "        if curr.right:\n",
    "            curr = curr.right\n",
    "        else:\n",
    "            curr = curr.left\n",
    "    # Add in reverse order\n",
    "    res.extend(tmp[::-1])\n",
    "\n",
    "\n",
    "def boundaryTraversal(root):\n",
    "    res = []\n",
    "    if root is None:\n",
    "        return res\n",
    "\n",
    "    if not isLeaf(root):  # Add root if it's not a leaf\n",
    "        res.append(root.data)\n",
    "\n",
    "    addLeftBoundary(root, res)\n",
    "    addLeaves(root, res)\n",
    "    addRightBoundary(root, res)\n",
    "\n",
    "    return res\n"
   ]
  },
  {
   "cell_type": "markdown",
   "id": "8c6179bf",
   "metadata": {},
   "source": [
    "Vertical order Traversal"
   ]
  },
  {
   "cell_type": "code",
   "execution_count": 2,
   "id": "53cacc0f",
   "metadata": {},
   "outputs": [
    {
     "name": "stdout",
     "output_type": "stream",
     "text": [
      "Vertical Order Traversal: [4, 2, 8, 1, 5, 6, 3, 9, 7]\n"
     ]
    }
   ],
   "source": [
    "from collections import defaultdict, deque\n",
    "\n",
    "class BTNode:\n",
    "    def __init__(self, d):\n",
    "        self.data = d\n",
    "        self.left = None\n",
    "        self.right = None\n",
    "\n",
    "\n",
    "def verticalOrderTraversal(root):\n",
    "    if root is None:\n",
    "        return []\n",
    "\n",
    "    # map: hd → list of nodes\n",
    "    hd_map = defaultdict(list)\n",
    "\n",
    "    # queue will store (node, horizontal_distance)\n",
    "    q = deque()\n",
    "    q.append((root, 0))\n",
    "\n",
    "    while q:\n",
    "        node, hd = q.popleft()\n",
    "        hd_map[hd].append(node.data)\n",
    "\n",
    "        if node.left:\n",
    "            q.append((node.left, hd - 1))\n",
    "        if node.right:\n",
    "            q.append((node.right, hd + 1))\n",
    "\n",
    "    # Collect results in order of increasing HD\n",
    "    result = []\n",
    "    for hd in sorted(hd_map.keys()):\n",
    "        result.extend(hd_map[hd])\n",
    "\n",
    "    return result\n",
    "\n",
    "\n",
    "if __name__ == \"__main__\":\n",
    "    root = BTNode(1)\n",
    "    root.left = BTNode(2)\n",
    "    root.right = BTNode(3)\n",
    "    root.left.left = BTNode(4)\n",
    "    root.left.right = BTNode(5)\n",
    "    root.right.left = BTNode(6)\n",
    "    root.right.right = BTNode(7)\n",
    "    root.right.left.left = BTNode(8)\n",
    "    root.right.left.right = BTNode(9)\n",
    "\n",
    "    print(\"Vertical Order Traversal:\", verticalOrderTraversal(root))\n"
   ]
  },
  {
   "cell_type": "markdown",
   "id": "947704fe",
   "metadata": {},
   "source": [
    "Top view oF Binary Tree"
   ]
  },
  {
   "cell_type": "code",
   "execution_count": 3,
   "id": "6d030687",
   "metadata": {},
   "outputs": [
    {
     "name": "stdout",
     "output_type": "stream",
     "text": [
      "Top View: [2, 1, 3, 6]\n"
     ]
    }
   ],
   "source": [
    "from collections import deque\n",
    "\n",
    "class BTNode:\n",
    "    def __init__(self, d):\n",
    "        self.data = d\n",
    "        self.left = None\n",
    "        self.right = None\n",
    "\n",
    "\n",
    "def topView(root):\n",
    "    if root is None:\n",
    "        return []\n",
    "\n",
    "    q = deque()\n",
    "    q.append((root, 0))   # node + horizontal distance\n",
    "    hd_map = {}           # hd → first node data\n",
    "\n",
    "    while q:\n",
    "        node, hd = q.popleft()\n",
    "\n",
    "        # Store first node for each hd\n",
    "        if hd not in hd_map:\n",
    "            hd_map[hd] = node.data\n",
    "\n",
    "        if node.left:\n",
    "            q.append((node.left, hd - 1))\n",
    "        if node.right:\n",
    "            q.append((node.right, hd + 1))\n",
    "\n",
    "    # Collect results in increasing HD order\n",
    "    result = []\n",
    "    for hd in sorted(hd_map.keys()):\n",
    "        result.append(hd_map[hd])\n",
    "\n",
    "    return result\n",
    "\n",
    "\n",
    "if __name__ == \"__main__\":\n",
    "    root = BTNode(1)\n",
    "    root.left = BTNode(2)\n",
    "    root.right = BTNode(3)\n",
    "    root.left.right = BTNode(4)\n",
    "    root.left.right.right = BTNode(5)\n",
    "    root.left.right.right.right = BTNode(6)\n",
    "\n",
    "    print(\"Top View:\", topView(root))\n"
   ]
  },
  {
   "cell_type": "markdown",
   "id": "fe67ff41",
   "metadata": {},
   "source": [
    "Bottom View"
   ]
  },
  {
   "cell_type": "code",
   "execution_count": 5,
   "id": "d93847d9",
   "metadata": {},
   "outputs": [
    {
     "name": "stdout",
     "output_type": "stream",
     "text": [
      "Bottom View: [5, 10, 4, 14, 25]\n"
     ]
    }
   ],
   "source": [
    "from collections import deque\n",
    "\n",
    "class BTNode:\n",
    "    def __init__(self, d):\n",
    "        self.data = d\n",
    "        self.left = None\n",
    "        self.right = None\n",
    "\n",
    "\n",
    "def bottomView(root):\n",
    "    if root is None:\n",
    "        return []\n",
    "\n",
    "    q = deque()\n",
    "    q.append((root, 0))   # (node, horizontal distance)\n",
    "    hd_map = {}           # hd → last node at that HD\n",
    "\n",
    "    while q:\n",
    "        node, hd = q.popleft()\n",
    "        # overwrite always → last node at this hd will remain\n",
    "        hd_map[hd] = node.data\n",
    "\n",
    "        if node.left:\n",
    "            q.append((node.left, hd - 1))\n",
    "        if node.right:\n",
    "            q.append((node.right, hd + 1))\n",
    "\n",
    "    # Collect results in increasing HD order\n",
    "    result = []\n",
    "    for hd in sorted(hd_map.keys()):\n",
    "        result.append(hd_map[hd])\n",
    "\n",
    "    return result\n",
    "\n",
    "if __name__ == \"__main__\":\n",
    "    root = BTNode(20)\n",
    "    root.left = BTNode(8)\n",
    "    root.right = BTNode(22)\n",
    "    root.left.left = BTNode(5)\n",
    "    root.left.right = BTNode(3)\n",
    "    root.right.left = BTNode(4)\n",
    "    root.right.right = BTNode(25)\n",
    "    root.left.right.left = BTNode(10)\n",
    "    root.left.right.right = BTNode(14)\n",
    "\n",
    "    print(\"Bottom View:\", bottomView(root))\n"
   ]
  },
  {
   "cell_type": "markdown",
   "id": "43fbaff6",
   "metadata": {},
   "source": [
    "Left View"
   ]
  },
  {
   "cell_type": "code",
   "execution_count": 4,
   "id": "ba65402c",
   "metadata": {},
   "outputs": [
    {
     "name": "stdout",
     "output_type": "stream",
     "text": [
      "Left View: [1, 2, 4, 8]\n"
     ]
    }
   ],
   "source": [
    "from collections import deque\n",
    "\n",
    "class BTNode:\n",
    "    def __init__(self, d):\n",
    "        self.data = d\n",
    "        self.left = None\n",
    "        self.right = None\n",
    "\n",
    "\n",
    "def leftView(root):\n",
    "    if root is None:\n",
    "        return []\n",
    "\n",
    "    q = deque()\n",
    "    q.append(root)\n",
    "    result = []\n",
    "\n",
    "    while q:\n",
    "        level_size = len(q)\n",
    "        for i in range(level_size):\n",
    "            node = q.popleft()\n",
    "\n",
    "            # First node of this level → left view\n",
    "            if i == 0:\n",
    "                result.append(node.data)\n",
    "\n",
    "            if node.left:\n",
    "                q.append(node.left)\n",
    "            if node.right:\n",
    "                q.append(node.right)\n",
    "\n",
    "    return result\n",
    "\n",
    "if __name__ == \"__main__\":\n",
    "    root = BTNode(1)\n",
    "    root.left = BTNode(2)\n",
    "    root.right = BTNode(3)\n",
    "    root.left.left = BTNode(4)\n",
    "    root.left.right = BTNode(5)\n",
    "    root.right.left = BTNode(6)\n",
    "    root.right.right = BTNode(7)\n",
    "    root.left.right.right = BTNode(8)\n",
    "\n",
    "    print(\"Left View:\", leftView(root))\n"
   ]
  },
  {
   "cell_type": "markdown",
   "id": "38326c3e",
   "metadata": {},
   "source": [
    "Right View"
   ]
  },
  {
   "cell_type": "code",
   "execution_count": 6,
   "id": "d81c2b17",
   "metadata": {},
   "outputs": [
    {
     "name": "stdout",
     "output_type": "stream",
     "text": [
      "Right View: [1, 3, 7, 8]\n"
     ]
    }
   ],
   "source": [
    "from collections import deque\n",
    "\n",
    "class BTNode:\n",
    "    def __init__(self, d):\n",
    "        self.data = d\n",
    "        self.left = None\n",
    "        self.right = None\n",
    "\n",
    "\n",
    "def rightView(root):\n",
    "    if root is None:\n",
    "        return []\n",
    "\n",
    "    q = deque()\n",
    "    q.append(root)\n",
    "    result = []\n",
    "\n",
    "    while q:\n",
    "        level_size = len(q)\n",
    "        for i in range(level_size):\n",
    "            node = q.popleft()\n",
    "\n",
    "            # Last node of this level → right view\n",
    "            if i == level_size - 1:\n",
    "                result.append(node.data)\n",
    "\n",
    "            if node.left:\n",
    "                q.append(node.left)\n",
    "            if node.right:\n",
    "                q.append(node.right)\n",
    "\n",
    "    return result\n",
    "\n",
    "if __name__ == \"__main__\":\n",
    "    root = BTNode(1)\n",
    "    root.left = BTNode(2)\n",
    "    root.right = BTNode(3)\n",
    "    root.left.left = BTNode(4)\n",
    "    root.left.right = BTNode(5)\n",
    "    root.right.left = BTNode(6)\n",
    "    root.right.right = BTNode(7)\n",
    "    root.left.right.right = BTNode(8)\n",
    "\n",
    "    print(\"Right View:\", rightView(root))\n"
   ]
  }
 ],
 "metadata": {
  "kernelspec": {
   "display_name": "Python 3",
   "language": "python",
   "name": "python3"
  },
  "language_info": {
   "codemirror_mode": {
    "name": "ipython",
    "version": 3
   },
   "file_extension": ".py",
   "mimetype": "text/x-python",
   "name": "python",
   "nbconvert_exporter": "python",
   "pygments_lexer": "ipython3",
   "version": "3.13.6"
  }
 },
 "nbformat": 4,
 "nbformat_minor": 5
}
