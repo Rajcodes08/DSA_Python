{
 "cells": [
  {
   "cell_type": "markdown",
   "metadata": {},
   "source": [
    "Selection Sort"
   ]
  },
  {
   "cell_type": "code",
   "execution_count": null,
   "metadata": {},
   "outputs": [
    {
     "name": "stdout",
     "output_type": "stream",
     "text": [
      "[2, 3, 4, 5, 9]\n"
     ]
    }
   ],
   "source": [
    "def selectionSort(arr, n):\n",
    "    for i in range(n-1):\n",
    "        minIndex = i\n",
    "        \n",
    "        for j in range (i+1,n):\n",
    "            if arr[j] < arr[minIndex]:\n",
    "                minIndex = j\n",
    "\n",
    "        #swapping 2 values    \n",
    "        arr[minIndex] , arr[i] = arr[i] , arr[minIndex]\n",
    "        \n",
    "    return arr\n",
    "  \n",
    "\n",
    "n = 5 # size of arr\n",
    "arr = [5,9,2,4,3] #take input in list \n",
    "\n",
    "ans = selectionSort (arr,n)\n",
    "print(ans)\n",
    "\n",
    "# when to use : whenever we have to sort small list of elements, selection sort is best to use.     "
   ]
  },
  {
   "cell_type": "code",
   "execution_count": 5,
   "metadata": {},
   "outputs": [
    {
     "name": "stdout",
     "output_type": "stream",
     "text": [
      "5 10\n"
     ]
    }
   ],
   "source": [
    "def swap(arr, i, j):\n",
    "    # arr[i], arr[j] = arr[j], arr[i]\n",
    "    # print(arr[i], arr[j])\n",
    "\n",
    "    tmp = arr[i]\n",
    "    arr[i] = arr[j]\n",
    "    arr[j] = tmp\n",
    "\n",
    "    print(arr[i], arr[j])\n",
    "\n",
    "    \n",
    "a = 10\n",
    "b = 5\n",
    "\n",
    "tmp = a   # tmp = 10\n",
    "a = b     # a = 5\n",
    "b = tmp \n",
    "print(a, b)"
   ]
  },
  {
   "cell_type": "markdown",
   "metadata": {},
   "source": [
    "Bubble Sort"
   ]
  },
  {
   "cell_type": "code",
   "execution_count": 6,
   "metadata": {},
   "outputs": [
    {
     "name": "stdout",
     "output_type": "stream",
     "text": [
      "Before sorting\n",
      "[2, 5, 3, 6, 1, 7, 4]\n",
      "After sorting\n",
      "[1, 2, 3, 4, 5, 6, 7]\n"
     ]
    }
   ],
   "source": [
    "def bubbleSort(arr, n):\n",
    "\tfor i in range(1, n):\n",
    "\n",
    "\t\tfor j in range(n-1):\n",
    "\t\t\tif arr[j] > arr[j+1]:\n",
    "\t\t\t\tarr[j], arr[j+1] = arr[j+1], arr[j]\n",
    "\n",
    "\n",
    "\n",
    "arr = [2, 5, 3, 6, 1, 7, 4]\n",
    "n = len(arr)\n",
    "\n",
    "print(\"Before sorting\")\n",
    "print(arr)\n",
    "\n",
    "bubbleSort(arr, n)\n",
    "\n",
    "print(\"After sorting\")\n",
    "print(arr)"
   ]
  },
  {
   "cell_type": "markdown",
   "metadata": {},
   "source": [
    "Insertion Sort"
   ]
  },
  {
   "cell_type": "code",
   "execution_count": 1,
   "metadata": {},
   "outputs": [
    {
     "name": "stdout",
     "output_type": "stream",
     "text": [
      "Sorted array : \n",
      "11\n",
      "12\n",
      "22\n",
      "25\n",
      "34\n",
      "64\n",
      "90\n"
     ]
    }
   ],
   "source": [
    "def insertionSort(a):\n",
    "    # storing the length of the given array or list in a variable.\n",
    "    n = len(a)\n",
    "\n",
    "    for i in range(1 , n):\n",
    "        # current is storing the i-th element of the list and\n",
    "        # j is pointing to the index before the current index\n",
    "        current = a[i]\n",
    "        j = i-1\n",
    "\n",
    "        # checking j's boundary condition and \n",
    "        # while the current elemet is smaller than a[j], keep shifting j\n",
    "        # at last place the current element to its correct positon\n",
    "        while j > -1 and current < a[j]:\n",
    "            a[j + 1] = a[j]\n",
    "            j = j - 1\n",
    "\n",
    "        a[j + 1] = current\n",
    "\n",
    "\n",
    "a = [64, 34, 25, 12, 22, 11, 90]\n",
    "insertionSort(a)\n",
    "print(\"Sorted array : \")\n",
    "for i in a:\n",
    "    print(i)"
   ]
  },
  {
   "cell_type": "markdown",
   "metadata": {},
   "source": [
    "Merge Sort"
   ]
  },
  {
   "cell_type": "code",
   "execution_count": null,
   "metadata": {},
   "outputs": [],
   "source": [
    "def merge(arr1, arr2):\n",
    "    i, j, k = 0, 0, 0\n",
    "    n, m = len(arr1), len(arr2)\n",
    "    arr3 = [0] * (n + m)\n",
    "    \n",
    "    while i < n and j < m:\n",
    "        if arr1[i] < arr2[j]:\n",
    "            arr3[k] = arr1[i]\n",
    "            i += 1\n",
    "        else:\n",
    "            arr3[k] = arr2[j]\n",
    "            j += 1\n",
    "        k += 1\n",
    "    \n",
    "    while i < n:\n",
    "        arr3[k] = arr1[i]\n",
    "        i += 1\n",
    "        k += 1\n",
    "    \n",
    "    while j < m:\n",
    "        arr3[k] = arr2[j]\n",
    "        j += 1\n",
    "        k += 1\n",
    "    \n",
    "    return arr3\n",
    "\n",
    "def print_array(arr):\n",
    "    print(\" \".join(map(str, arr)))\n",
    "\n",
    "arr1 = [1, 3, 5, 7, 9]\n",
    "arr2 = [2, 4, 6]\n",
    "\n",
    "arr3 = merge(arr1, arr2)\n",
    "print_array(arr3)\n"
   ]
  },
  {
   "cell_type": "markdown",
   "metadata": {},
   "source": [
    "Merge sort using recursion\n"
   ]
  },
  {
   "cell_type": "code",
   "execution_count": null,
   "metadata": {},
   "outputs": [],
   "source": [
    "def merge(arr, s, e):\n",
    "    mid = (s + e) // 2\n",
    "    \n",
    "    left = arr[s:mid+1]\n",
    "    right = arr[mid+1:e+1]\n",
    "    \n",
    "    i = j = 0\n",
    "    k = s\n",
    "    \n",
    "    while i < len(left) and j < len(right):\n",
    "        if left[i] < right[j]:\n",
    "            arr[k] = left[i]\n",
    "            i += 1\n",
    "        else:\n",
    "            arr[k] = right[j]\n",
    "            j += 1\n",
    "        k += 1\n",
    "    \n",
    "    while i < len(left):\n",
    "        arr[k] = left[i]\n",
    "        i += 1\n",
    "        k += 1\n",
    "    \n",
    "    while j < len(right):\n",
    "        arr[k] = right[j]\n",
    "        j += 1\n",
    "        k += 1\n",
    "\n",
    "def merge_sort(arr, s, e):\n",
    "    if s >= e:\n",
    "        return\n",
    "    \n",
    "    mid = (s + e) // 2\n",
    "    \n",
    "    merge_sort(arr, s, mid)\n",
    "    merge_sort(arr, mid + 1, e)\n",
    "    merge(arr, s, e)\n",
    "\n",
    "if __name__ == \"__main__\":\n",
    "    arr = [3, 7, 0, 1, 5, 8, 3, 2, 34, 66, 87, 23, 12, 12, 12]\n",
    "    n = len(arr)\n",
    "    \n",
    "    merge_sort(arr, 0, n - 1)\n",
    "    \n",
    "    print(\" \".join(map(str, arr)))\n"
   ]
  }
 ],
 "metadata": {
  "kernelspec": {
   "display_name": "Python 3",
   "language": "python",
   "name": "python3"
  },
  "language_info": {
   "codemirror_mode": {
    "name": "ipython",
    "version": 3
   },
   "file_extension": ".py",
   "mimetype": "text/x-python",
   "name": "python",
   "nbconvert_exporter": "python",
   "pygments_lexer": "ipython3",
   "version": "3.12.3"
  }
 },
 "nbformat": 4,
 "nbformat_minor": 2
}
